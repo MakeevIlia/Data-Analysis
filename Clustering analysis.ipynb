{
 "cells": [
  {
   "cell_type": "markdown",
   "metadata": {
    "id": "BvlBvTDIn371"
   },
   "source": [
    "### Импорт библиотек"
   ]
  },
  {
   "cell_type": "code",
   "execution_count": 1,
   "metadata": {
    "id": "VB-0IuuFnwtp"
   },
   "outputs": [],
   "source": [
    "# Импорт библиотек для проведения расчетов\n",
    "import pandas as pd\n",
    "import numpy as np\n",
    "from sklearn.preprocessing import StandardScaler"
   ]
  },
  {
   "cell_type": "code",
   "execution_count": 2,
   "metadata": {
    "id": "Jxxp7XH0n87Z"
   },
   "outputs": [],
   "source": [
    "# Импорт библиотек для кластеризации\n",
    "# Документация: https://scikit-learn.org/stable/modules/clustering.html\n",
    "from sklearn.cluster import AgglomerativeClustering\n",
    "from sklearn.cluster import KMeans\n",
    "from scipy.cluster.hierarchy import dendrogram"
   ]
  },
  {
   "cell_type": "code",
   "execution_count": 3,
   "metadata": {
    "id": "waEHhJ88dGHf"
   },
   "outputs": [],
   "source": [
    "# Импорт библиотек для визуализации\n",
    "from matplotlib import pyplot as plt\n",
    "import seaborn as sns"
   ]
  },
  {
   "cell_type": "code",
   "execution_count": 4,
   "metadata": {
    "colab": {
     "base_uri": "https://localhost:8080/",
     "height": 339
    },
    "id": "Y_TfgESJWnFM",
    "outputId": "e73d3e6d-3a66-4779-ab1d-4610743d9941"
   },
   "outputs": [],
   "source": [
    "# Библиотека для построения Self-Organizing Maps: sklearn-som\n",
    "# Документация библиотеки: https://sklearn-som.readthedocs.io/en/latest/index.html\n",
    "\n",
    "# ! python3.7 -m pip install sklearn-som\n",
    "from sklearn_som.som import SOM"
   ]
  },
  {
   "cell_type": "markdown",
   "metadata": {
    "id": "E79qR3s7n_1X"
   },
   "source": [
    "## Загрузка данных"
   ]
  },
  {
   "cell_type": "code",
   "execution_count": 5,
   "metadata": {
    "id": "jtYmPhhDoCQI"
   },
   "outputs": [],
   "source": [
    "# Указываем путь к файлу\n",
    "# При работе с google colab существует 2 варианта загрузки файла:\n",
    "# 1. Через google drive\n",
    "# 2. Через левое меню: \"файлы\" -> \"загрузить в сессионное хранилище\" -> \"скопировать файл\" (при наведении на файл)\n",
    "file_path = 'C:\\\\Users\\\\Frederik\\\\Desktop\\\\baseball.sas7bdat'"
   ]
  },
  {
   "cell_type": "code",
   "execution_count": 6,
   "metadata": {
    "id": "E8LgzOBwoKsT"
   },
   "outputs": [
    {
     "data": {
      "text/html": [
       "<div>\n",
       "<style scoped>\n",
       "    .dataframe tbody tr th:only-of-type {\n",
       "        vertical-align: middle;\n",
       "    }\n",
       "\n",
       "    .dataframe tbody tr th {\n",
       "        vertical-align: top;\n",
       "    }\n",
       "\n",
       "    .dataframe thead th {\n",
       "        text-align: right;\n",
       "    }\n",
       "</style>\n",
       "<table border=\"1\" class=\"dataframe\">\n",
       "  <thead>\n",
       "    <tr style=\"text-align: right;\">\n",
       "      <th></th>\n",
       "      <th>Name</th>\n",
       "      <th>Team</th>\n",
       "      <th>nAtBat</th>\n",
       "      <th>nHits</th>\n",
       "      <th>nHome</th>\n",
       "      <th>nRuns</th>\n",
       "      <th>nRBI</th>\n",
       "      <th>nBB</th>\n",
       "      <th>YrMajor</th>\n",
       "      <th>CrAtBat</th>\n",
       "      <th>...</th>\n",
       "      <th>CrBB</th>\n",
       "      <th>League</th>\n",
       "      <th>Division</th>\n",
       "      <th>Position</th>\n",
       "      <th>nOuts</th>\n",
       "      <th>nAssts</th>\n",
       "      <th>nError</th>\n",
       "      <th>Salary</th>\n",
       "      <th>Div</th>\n",
       "      <th>logSalary</th>\n",
       "    </tr>\n",
       "  </thead>\n",
       "  <tbody>\n",
       "    <tr>\n",
       "      <th>0</th>\n",
       "      <td>Allanson, Andy</td>\n",
       "      <td>Cleveland</td>\n",
       "      <td>293.0</td>\n",
       "      <td>66.0</td>\n",
       "      <td>1.0</td>\n",
       "      <td>30.0</td>\n",
       "      <td>29.0</td>\n",
       "      <td>14.0</td>\n",
       "      <td>1.0</td>\n",
       "      <td>293.0</td>\n",
       "      <td>...</td>\n",
       "      <td>14.0</td>\n",
       "      <td>American</td>\n",
       "      <td>East</td>\n",
       "      <td>C</td>\n",
       "      <td>446.0</td>\n",
       "      <td>33.0</td>\n",
       "      <td>20.0</td>\n",
       "      <td>NaN</td>\n",
       "      <td>AE</td>\n",
       "      <td>NaN</td>\n",
       "    </tr>\n",
       "    <tr>\n",
       "      <th>1</th>\n",
       "      <td>Ashby, Alan</td>\n",
       "      <td>Houston</td>\n",
       "      <td>315.0</td>\n",
       "      <td>81.0</td>\n",
       "      <td>7.0</td>\n",
       "      <td>24.0</td>\n",
       "      <td>38.0</td>\n",
       "      <td>39.0</td>\n",
       "      <td>14.0</td>\n",
       "      <td>3449.0</td>\n",
       "      <td>...</td>\n",
       "      <td>375.0</td>\n",
       "      <td>National</td>\n",
       "      <td>West</td>\n",
       "      <td>C</td>\n",
       "      <td>632.0</td>\n",
       "      <td>43.0</td>\n",
       "      <td>10.0</td>\n",
       "      <td>475.0</td>\n",
       "      <td>NW</td>\n",
       "      <td>6.163315</td>\n",
       "    </tr>\n",
       "    <tr>\n",
       "      <th>2</th>\n",
       "      <td>Davis, Alan</td>\n",
       "      <td>Seattle</td>\n",
       "      <td>479.0</td>\n",
       "      <td>130.0</td>\n",
       "      <td>18.0</td>\n",
       "      <td>66.0</td>\n",
       "      <td>72.0</td>\n",
       "      <td>76.0</td>\n",
       "      <td>3.0</td>\n",
       "      <td>1624.0</td>\n",
       "      <td>...</td>\n",
       "      <td>263.0</td>\n",
       "      <td>American</td>\n",
       "      <td>West</td>\n",
       "      <td>1B</td>\n",
       "      <td>880.0</td>\n",
       "      <td>82.0</td>\n",
       "      <td>14.0</td>\n",
       "      <td>480.0</td>\n",
       "      <td>AW</td>\n",
       "      <td>6.173786</td>\n",
       "    </tr>\n",
       "    <tr>\n",
       "      <th>3</th>\n",
       "      <td>Dawson, Andre</td>\n",
       "      <td>Montreal</td>\n",
       "      <td>496.0</td>\n",
       "      <td>141.0</td>\n",
       "      <td>20.0</td>\n",
       "      <td>65.0</td>\n",
       "      <td>78.0</td>\n",
       "      <td>37.0</td>\n",
       "      <td>11.0</td>\n",
       "      <td>5628.0</td>\n",
       "      <td>...</td>\n",
       "      <td>354.0</td>\n",
       "      <td>National</td>\n",
       "      <td>East</td>\n",
       "      <td>RF</td>\n",
       "      <td>200.0</td>\n",
       "      <td>11.0</td>\n",
       "      <td>3.0</td>\n",
       "      <td>500.0</td>\n",
       "      <td>NE</td>\n",
       "      <td>6.214608</td>\n",
       "    </tr>\n",
       "    <tr>\n",
       "      <th>4</th>\n",
       "      <td>Galarraga, Andres</td>\n",
       "      <td>Montreal</td>\n",
       "      <td>321.0</td>\n",
       "      <td>87.0</td>\n",
       "      <td>10.0</td>\n",
       "      <td>39.0</td>\n",
       "      <td>42.0</td>\n",
       "      <td>30.0</td>\n",
       "      <td>2.0</td>\n",
       "      <td>396.0</td>\n",
       "      <td>...</td>\n",
       "      <td>33.0</td>\n",
       "      <td>National</td>\n",
       "      <td>East</td>\n",
       "      <td>1B</td>\n",
       "      <td>805.0</td>\n",
       "      <td>40.0</td>\n",
       "      <td>4.0</td>\n",
       "      <td>91.5</td>\n",
       "      <td>NE</td>\n",
       "      <td>4.516339</td>\n",
       "    </tr>\n",
       "  </tbody>\n",
       "</table>\n",
       "<p>5 rows × 24 columns</p>\n",
       "</div>"
      ],
      "text/plain": [
       "                Name       Team  nAtBat  nHits  nHome  nRuns  nRBI   nBB  \\\n",
       "0     Allanson, Andy  Cleveland   293.0   66.0    1.0   30.0  29.0  14.0   \n",
       "1        Ashby, Alan    Houston   315.0   81.0    7.0   24.0  38.0  39.0   \n",
       "2        Davis, Alan    Seattle   479.0  130.0   18.0   66.0  72.0  76.0   \n",
       "3      Dawson, Andre   Montreal   496.0  141.0   20.0   65.0  78.0  37.0   \n",
       "4  Galarraga, Andres   Montreal   321.0   87.0   10.0   39.0  42.0  30.0   \n",
       "\n",
       "   YrMajor  CrAtBat  ...   CrBB    League  Division  Position  nOuts nAssts  \\\n",
       "0      1.0    293.0  ...   14.0  American      East         C  446.0   33.0   \n",
       "1     14.0   3449.0  ...  375.0  National      West         C  632.0   43.0   \n",
       "2      3.0   1624.0  ...  263.0  American      West        1B  880.0   82.0   \n",
       "3     11.0   5628.0  ...  354.0  National      East        RF  200.0   11.0   \n",
       "4      2.0    396.0  ...   33.0  National      East        1B  805.0   40.0   \n",
       "\n",
       "  nError Salary  Div  logSalary  \n",
       "0   20.0    NaN   AE        NaN  \n",
       "1   10.0  475.0   NW   6.163315  \n",
       "2   14.0  480.0   AW   6.173786  \n",
       "3    3.0  500.0   NE   6.214608  \n",
       "4    4.0   91.5   NE   4.516339  \n",
       "\n",
       "[5 rows x 24 columns]"
      ]
     },
     "execution_count": 6,
     "metadata": {},
     "output_type": "execute_result"
    }
   ],
   "source": [
    "# Загружаем данные из SAS файла\n",
    "df = pd.read_sas(file_path, encoding='latin-1')\n",
    "# Пример данных\n",
    "df.head()"
   ]
  },
  {
   "cell_type": "markdown",
   "metadata": {
    "id": "qCivzh6gdP9O"
   },
   "source": [
    "## Формирование признакового пространства"
   ]
  },
  {
   "cell_type": "code",
   "execution_count": 7,
   "metadata": {
    "id": "G2gwVV3roqCP"
   },
   "outputs": [],
   "source": [
    "# Сформируем признаковое пространство:\n",
    "# 1. YrMajor - число лет в лиге\n",
    "# 2. Признаки с префиксом \"n\" - результаты 1986 года \n",
    "# 3. Признаки с префиксом \"сr\"  - результаты за всю карьеру\n",
    "\n",
    "results_1986 = [c for c in df.columns if c[0] == \"n\"]\n",
    "results_all = [c for c in df.columns if c[:2] == \"Cr\"]\n",
    "sign_features = ['YrMajor'] + results_1986 + results_all"
   ]
  },
  {
   "cell_type": "code",
   "execution_count": 8,
   "metadata": {
    "id": "ASBOvjli0_pY"
   },
   "outputs": [],
   "source": [
    "# Стандартизация признаков (вставьте свой код)\n",
    "scaler = StandardScaler()\n",
    "\n",
    "df_s = pd.DataFrame(scaler.fit_transform(df[sign_features]),\n",
    "                                              columns = sign_features)\n",
    "\n",
    "X = df_s.loc[:, sign_features]"
   ]
  },
  {
   "cell_type": "markdown",
   "metadata": {
    "id": "19aqZ0e8om5w"
   },
   "source": [
    "## Часть 1: Иерархическая кластеризация и K-means"
   ]
  },
  {
   "cell_type": "code",
   "execution_count": 9,
   "metadata": {
    "id": "JtRnhN77t9F7"
   },
   "outputs": [],
   "source": [
    "# Обучим модель Иерархической кластеризации\n",
    "clustering = AgglomerativeClustering(distance_threshold = 0.0, n_clusters = None).fit(X)"
   ]
  },
  {
   "cell_type": "code",
   "execution_count": 10,
   "metadata": {
    "id": "A8mtYwZmX0Pb"
   },
   "outputs": [
    {
     "data": {
      "image/png": "[encoded data removed]",
      "text/plain": [
       "<Figure size 864x720 with 1 Axes>"
      ]
     },
     "metadata": {
      "needs_background": "light"
     },
     "output_type": "display_data"
    }
   ],
   "source": [
    "# Визуализация дендрограммы\n",
    "def plot_dendrogram(model, **kwargs):\n",
    "    # Создаем матрицу связности\n",
    "\n",
    "    # Рассчитываем количество наблюдений в каждой вершине\n",
    "    counts = np.zeros(model.children_.shape[0])\n",
    "    n_samples = len(model.labels_)\n",
    "    for i, merge in enumerate(model.children_):\n",
    "        current_count = 0\n",
    "        for child_idx in merge:\n",
    "            if child_idx < n_samples:\n",
    "                current_count += 1  # Лист\n",
    "            else:\n",
    "                current_count += counts[child_idx - n_samples]\n",
    "        counts[i] = current_count\n",
    "\n",
    "    linkage_matrix = np.column_stack(\n",
    "        [model.children_, model.distances_, counts]\n",
    "    ).astype(float)\n",
    "\n",
    "    fig, axes = plt.subplots(1, 1, figsize=(12, 10))\n",
    "    dendrogram(linkage_matrix, **kwargs, show_leaf_counts = True)\n",
    "\n",
    "plot_dendrogram(clustering, truncate_mode=\"level\", p=3)"
   ]
  },
  {
   "cell_type": "code",
   "execution_count": 11,
   "metadata": {
    "id": "JSQAs4FAu0ir"
   },
   "outputs": [
    {
     "name": "stdout",
     "output_type": "stream",
     "text": [
      "[119.56929019 121.61624755 106.40848842 103.32934724  97.89965331\n",
      "  91.89038421  86.86937369  82.04510413  78.50151567  74.86148088\n",
      "  71.84610899  69.16062354  67.10744632  65.04326421  63.31060945\n",
      "  61.88505654  60.64492495  59.64825449  58.60935539  57.26334176\n",
      "  56.10526808  55.12288316  54.14371373  53.30876004  52.33380959\n",
      "  51.4201882   50.59337619  49.84287008]\n"
     ]
    },
    {
     "data": {
      "image/png": "[encoded data removed]",
      "text/plain": [
       "<Figure size 432x288 with 1 Axes>"
      ]
     },
     "metadata": {
      "needs_background": "light"
     },
     "output_type": "display_data"
    }
   ],
   "source": [
    "# Выберем число кластеров на основе псевдо критерия Фишера\n",
    "\n",
    "def sum_dist_to_center(X):\n",
    "    center = np.mean(X, axis = 0)\n",
    "    return ((X - center)**2).values.sum()\n",
    "\n",
    "def choose_num_clusters(X, max_clust = 30):\n",
    "    N = X.shape[0]\n",
    "    Q = sum_dist_to_center(X)\n",
    "    pseudo_f = np.array([])\n",
    "    for G in range(2, max_clust):\n",
    "        clustering = AgglomerativeClustering(n_clusters = G).fit(X)\n",
    "        W = 0\n",
    "        for l in range(G):\n",
    "            elems = X[clustering.labels_ == l]\n",
    "            W += sum_dist_to_center(elems)\n",
    "        fisher_stat = ((Q - W)/(G - 1))/(W/(N - G))\n",
    "        pseudo_f = np.append(pseudo_f, fisher_stat)\n",
    "    plt.plot(range(2, max_clust), pseudo_f)\n",
    "    print(pseudo_f)\n",
    "    return np.argmax(pseudo_f)+2\n",
    "\n",
    "k = choose_num_clusters(X)\n",
    "clustering = KMeans(n_clusters=k, random_state=0).fit(X)\n",
    "label = clustering.labels_"
   ]
  },
  {
   "cell_type": "markdown",
   "metadata": {
    "id": "xGNanz111FaC"
   },
   "source": [
    "### Ответить на следующие вопросы:\n",
    "\n",
    "#### 1.   Сколько кластеров было выбрано на основе псевдо критерия Фишера?\n",
    "#### 2.   Используя информацию из графика, ответьте на вопросы:\n",
    "> 1.   Каково значение критерия для выбранного числа кластеров?\n",
    "> 2.   А для числа кластеров на один больше и на один меньше?\n",
    "\n"
   ]
  },
  {
   "cell_type": "markdown",
   "metadata": {},
   "source": [
    "1. Так как необходимо выбирать число кластеров с максимальным значением статистики PseudoF, то нам подходит количество кластеров равное 3.\n",
    "2. При числе кластеров 3, значение PseudoF статистики равно 121.61624755. Для числа кластеров 2, значение PseudoF статистики равно 119.56929019, а для числа кластеров 4, значение PseudoF статистики равно 106.40848842."
   ]
  },
  {
   "cell_type": "markdown",
   "metadata": {
    "id": "RfBkKoFpM20W"
   },
   "source": [
    "## Часть 2: SOM"
   ]
  },
  {
   "cell_type": "code",
   "execution_count": 12,
   "metadata": {
    "id": "9P6SFu1WNcRv"
   },
   "outputs": [],
   "source": [
    "# Обучаем Self-Organizing Map с размером сетки 3 на 1\n",
    "baseball_som = SOM(m=3, n=1, dim = X.shape[1])\n",
    "baseball_som.fit(X.to_numpy())\n",
    "\n",
    "labels = baseball_som.predict(X.to_numpy())"
   ]
  },
  {
   "cell_type": "code",
   "execution_count": 13,
   "metadata": {
    "id": "ZLzqFb1n2PdE"
   },
   "outputs": [
    {
     "data": {
      "text/plain": [
       "Text(0.5, 0, 'cluster')"
      ]
     },
     "execution_count": 13,
     "metadata": {},
     "output_type": "execute_result"
    },
    {
     "data": {
      "image/png": "[encoded data removed]",
      "text/plain": [
       "<Figure size 432x288 with 1 Axes>"
      ]
     },
     "metadata": {
      "needs_background": "light"
     },
     "output_type": "display_data"
    }
   ],
   "source": [
    "## Дополнительно #\n",
    "## Значения признаков по кластерам удобно визуализировать с помощью barplot\n",
    "## Нужное раскомментировать\n",
    "\n",
    "## 1. В терминах matplotlib \n",
    "plt.bar(labels, X[\"CrBB\"])\n",
    "plt.ylabel(\"CrBB\")\n",
    "plt.xlabel(\"cluster\")"
   ]
  },
  {
   "cell_type": "code",
   "execution_count": 14,
   "metadata": {},
   "outputs": [
    {
     "data": {
      "text/plain": [
       "<AxesSubplot:ylabel='CrBB'>"
      ]
     },
     "execution_count": 14,
     "metadata": {},
     "output_type": "execute_result"
    },
    {
     "data": {
      "image/png": "[encoded data removed]",
      "text/plain": [
       "<Figure size 432x288 with 1 Axes>"
      ]
     },
     "metadata": {
      "needs_background": "light"
     },
     "output_type": "display_data"
    }
   ],
   "source": [
    "## 2. В терминах seaborn (+ доверительные интервалы)\n",
    "sns.barplot(x = labels, y = X[\"CrBB\"], capsize = 0.1)"
   ]
  },
  {
   "cell_type": "markdown",
   "metadata": {
    "id": "Nv_XaTZV2Cxr"
   },
   "source": [
    "## Часть 3: Анализ кластеров\n",
    "\n",
    "## Построить модели:\n",
    "> Для части 1: выбор количества кластеров на основе иерархической кластеризации с последующим обучение k-means\n",
    "\n",
    "> Для части 2: обучение SOM с размером сетки 2 на 2 \n",
    "\n",
    "## Ответить на следующие вопросы для каждой построенной модели\n",
    "> Вариант I: Какой кластер содержит самых опытных игроков (переменная YrMajor)? \n",
    "> Вариант II: Какой кластер содержит самых успешных по хитам в 1986 году игроков (переменная nHits)?\n",
    "> 1.\tСколько человек попало в этот кластер? \n",
    "> 2.    Как зовут самого типичного игрока в кластере вашего варианта (у него должно быть минимальное расстояние до центра вашего кластера)?"
   ]
  },
  {
   "cell_type": "markdown",
   "metadata": {},
   "source": [
    "Для части 1. В качестве числа кластеров можно выбрать как 2, так и 3 кластера, так как \"высота\" ветвей для 2 кластеров и 3 примерно одинаковая. Для того, чтобы точно определится с числом кластеров, проведем иерархическую кластеризацию с дефолтными настройками и выберем какое число кластеров он сам подберет."
   ]
  },
  {
   "cell_type": "code",
   "execution_count": 16,
   "metadata": {},
   "outputs": [],
   "source": [
    "clustering = AgglomerativeClustering().fit(X)"
   ]
  },
  {
   "cell_type": "code",
   "execution_count": 17,
   "metadata": {},
   "outputs": [
    {
     "data": {
      "text/plain": [
       "2"
      ]
     },
     "execution_count": 17,
     "metadata": {},
     "output_type": "execute_result"
    }
   ],
   "source": [
    "clustering.n_clusters"
   ]
  },
  {
   "cell_type": "markdown",
   "metadata": {},
   "source": [
    "Как видно, число кластеров равно 2. Тогда применим K-means с числом кластеров 2."
   ]
  },
  {
   "cell_type": "code",
   "execution_count": 18,
   "metadata": {},
   "outputs": [],
   "source": [
    "clustering = KMeans(n_clusters=2, random_state=0).fit(X)"
   ]
  },
  {
   "cell_type": "markdown",
   "metadata": {},
   "source": [
    "Для того, чтобы определить самых успешных игроков в 1986 году необходимо найти центры каждого кластера и определить у центра какого кластера координата в плоскости nHits наибольшая."
   ]
  },
  {
   "cell_type": "code",
   "execution_count": 19,
   "metadata": {},
   "outputs": [
    {
     "name": "stdout",
     "output_type": "stream",
     "text": [
      "В кластере номер 1 , координата, отвечающая за nHits, равна 0.4414145168792788\n",
      "В кластере номер 2 , координата, отвечающая за nHits, равна -0.19596429224685438\n"
     ]
    }
   ],
   "source": [
    "centers = clustering.cluster_centers_\n",
    "for i in range(len(centers)):\n",
    "    print(\"В кластере номер\", i + 1, \", координата, отвечающая за nHits, равна\", centers[i][sign_features.index(\"nHits\")])"
   ]
  },
  {
   "cell_type": "markdown",
   "metadata": {},
   "source": [
    "Как можно заметить, в первом кластере в среднем величина nHits выше, чем во втором. А значит 1 кластер содержит в среднем самых успешных игрков в 1986 году. Теперь найдем число людей находящихся в этом кластере."
   ]
  },
  {
   "cell_type": "code",
   "execution_count": 20,
   "metadata": {},
   "outputs": [
    {
     "name": "stdout",
     "output_type": "stream",
     "text": [
      "Число людей в 1 кластере: 99\n",
      "Число людей во 2 кластере: 223\n"
     ]
    }
   ],
   "source": [
    "print(\"Число людей в 1 кластере:\", len(clustering.labels_[clustering.labels_ == 0]))\n",
    "print(\"Число людей во 2 кластере:\",len(clustering.labels_[clustering.labels_ == 1]))"
   ]
  },
  {
   "cell_type": "markdown",
   "metadata": {},
   "source": [
    "Число людей в 1 кластере равно 99, а во втором кластере 223. Далее найдем точку, которая ближе всего к центру кластера."
   ]
  },
  {
   "cell_type": "code",
   "execution_count": 23,
   "metadata": {},
   "outputs": [
    {
     "name": "stdout",
     "output_type": "stream",
     "text": [
      "Расстояние от игрока Dawson, Andr до центра кластера равно 1.907811570759375\n",
      "Расстояние от игрока Thornton, Andr до центра кластера равно 2.630441345847325\n",
      "Расстояние от игрока Trammell, Ala до центра кластера равно 4.369821065802274\n",
      "Расстояние от игрока Bell, Budd до центра кластера равно 3.302420683985332\n",
      "Расстояние от игрока Bochte, Bruc до центра кластера равно 2.8110380269476303\n",
      "Расстояние от игрока Boone, Bo до центра кластера равно 2.6154600014214644\n",
      "Расстояние от игрока Buckner, Bil до центра кластера равно 4.433186547597835\n",
      "Расстояние от игрока Downing, Bria до центра кластера равно 2.835556569358359\n",
      "Расстояние от игрока Grich, Bobb до центра кластера равно 3.5441568794697247\n",
      "Расстояние от игрока Horner, Bo до центра кластера равно 4.4386274936138825\n",
      "Расстояние от игрока Madlock, Bil до центра кластера равно 3.445911426316002\n",
      "Расстояние от игрока Oglivie, Be до центра кластера равно 3.1595418598977525\n",
      "Расстояние от игрока Russell, Bil до центра кластера равно 4.809513554051951\n",
      "Расстояние от игрока Cooper, Ceci до центра кластера равно 2.699927181035363\n",
      "Расстояние от игрока Fisk, Carlto до центра кластера равно 2.6314273792716856\n",
      "Расстояние от игрока Johnson, Clif до центра кластера равно 2.6633953291472467\n",
      "Расстояние от игрока Lansford, Carne до центра кластера равно 2.668455860645992\n",
      "Расстояние от игрока Lemon, Che до центра кластера равно 1.573678154381818\n",
      "Расстояние от игрока Ripken, Ca до центра кластера равно 4.690922977750084\n",
      "Расстояние от игрока Speier, Chri до центра кластера равно 4.586033359227056\n",
      "Расстояние от игрока Baker, Dust до центра кластера равно 4.51221762282374\n",
      "Расстояние от игрока Baylor, Do до центра кластера равно 4.231693324112502\n",
      "Расстояние от игрока Concepcion, Dav до центра кластера равно 3.77407156853085\n",
      "Расстояние от игрока DeCinces, Dou до центра кластера равно 2.3487927099533126\n",
      "Расстояние от игрока Evans, Darrel до центра кластера равно 5.275116566795103\n",
      "Расстояние от игрока Evans, Dwigh до центра кластера равно 3.891800941322762\n",
      "Расстояние от игрока Kingman, Dav до центра кластера равно 4.422329986514585\n",
      "Расстояние от игрока Lopes, Dave до центра кластера равно 3.072373752804672\n",
      "Расстояние от игрока Mattingly, Do до центра кластера равно 6.739320904188427\n",
      "Расстояние от игрока Murphy, Dal до центра кластера равно 3.000855216539685\n",
      "Расстояние от игрока Murphy, Dwayn до центра кластера равно 2.7494152649811783\n",
      "Расстояние от игрока Parker, Dav до центра кластера равно 3.8459019803597156\n",
      "Расстояние от игрока Porter, Darrel до центра кластера равно 4.279431749978653\n",
      "Расстояние от игрока Winfield, Dav до центра кластера равно 3.833803284555463\n",
      "Расстояние от игрока Cabell, Eno до центра кластера равно 4.073133696119994\n",
      "Расстояние от игрока Murray, Eddi до центра кластера равно 3.4950447152981114\n",
      "Расстояние от игрока Lynn, Fre до центра кластера равно 1.7460114364455424\n",
      "Расстояние от игрока White, Fran до центра кластера равно 3.2333719663805414\n",
      "Расстояние от игрока Bell, Georg до центра кластера равно 5.23634029664981\n",
      "Расстояние от игрока Brett, Georg до центра кластера равно 2.91443423281833\n",
      "Расстояние от игрока Carter, Gar до центра кластера равно 3.106458906027284\n",
      "Расстояние от игрока Foster, Georg до центра кластера равно 4.16918576687942\n",
      "Расстояние от игрока Gaetti, Gar до центра кластера равно 5.320736419930344\n",
      "Расстояние от игрока Hendrick, Georg до центра кластера равно 3.0444700363949453\n",
      "Расстояние от игрока Matthews, Gar до центра кластера равно 2.71967189127616\n",
      "Расстояние от игрока Nettles, Grai до центра кластера равно 4.85567235593637\n",
      "Расстояние от игрока Templeton, Garr до центра кластера равно 4.099201781852883\n",
      "Расстояние от игрока Thomas, Gorma до центра кластера равно 3.215449635139269\n",
      "Расстояние от игрока Baines, Harol до центра кластера равно 2.9650713552029195\n",
      "Расстояние от игрока McRae, Ha до центра кластера равно 4.190989923769005\n",
      "Расстояние от игрока Barfield, Jess до центра кластера равно 5.203913392113605\n",
      "Расстояние от игрока Beniquez, Jua до центра кластера равно 3.0630465080299487\n",
      "Расстояние от игрока Clark, Jac до центра кластера равно 3.4306754774913544\n",
      "Расстояние от игрока Cruz, Jos до центра кластера равно 2.540162353572163\n",
      "Расстояние от игрока Grubb, Johnn до центра кластера равно 3.713662659642403\n",
      "Расстояние от игрока Mumphrey, Jerr до центра кластера равно 3.3961937232393704\n",
      "Расстояние от игрока Orta, Jorg до центра кластера равно 3.0734680110892083\n",
      "Расстояние от игрока Rice, Ji до центра кластера равно 4.381240702506028\n",
      "Расстояние от игрока Sundberg, Ji до центра кластера равно 2.442686366435083\n",
      "Расстояние от игрока Gibson, Kir до центра кластера равно 3.5184405095669797\n",
      "Расстояние от игрока Griffey, Ke до центра кластера равно 2.094319137730685\n",
      "Расстояние от игрока Hernandez, Keit до центра кластера равно 4.458486519880074\n",
      "Расстояние от игрока Hrbek, Ken до центра кластера равно 4.7875994859519135\n",
      "Расстояние от игрока Moreland, Keit до центра кластера равно 3.1720172930129586\n",
      "Расстояние от игрока Durham, Leo до центра кластера равно 4.119206957667522\n",
      "Расстояние от игрока Lacy, Le до центра кластера равно 2.577474218058166\n",
      "Расстояние от игрока Moseby, Lloy до центра кластера равно 3.107036414790998\n",
      "Расстояние от игрока Parrish, Lanc до центра кластера равно 2.3090850470563344\n",
      "Расстояние от игрока Parrish, Larr до центра кластера равно 2.675193341778308\n",
      "Расстояние от игрока Whitaker, Lo до центра кластера равно 3.379937610429641\n",
      "Расстояние от игрока Easler, Mik до центра кластера равно 2.9334415397533014\n",
      "Расстояние от игрока Schmidt, Mik до центра кластера равно 6.847104858723345\n",
      "Расстояние от игрока Smith, Ozzi до центра кластера равно 4.456358361928784\n",
      "Расстояние от игрока Garner, Phi до центра кластера равно 3.608420786545537\n",
      "Расстояние от игрока Molitor, Pau до центра кластера равно 2.808246264860408\n",
      "Расстояние от игрока O'Brien, Pet до центра кластера равно 5.392669202226637\n",
      "Расстояние от игрока Rose, Pet до центра кластера равно 9.234170927113318\n",
      "Расстояние от игрока Cey, Ro до центра кластера равно 3.763025160639824\n",
      "Расстояние от игрока Dempsey, Ric до центра кластера равно 3.5154536197177397\n",
      "Расстояние от игрока Henderson, Ricke до центра кластера равно 4.262646851523573\n",
      "Расстояние от игрока Jackson, Reggi до центра кластера равно 7.219044074087837\n",
      "Расстояние от игрока Jones, Rupper до центра кластера равно 2.0756897590668952\n",
      "Расстояние от игрока Knight, Ra до центра кластера равно 3.1632118411837222\n",
      "Расстояние от игрока Sandberg, Ryn до центра кластера равно 4.529245660894136\n",
      "Расстояние от игрока Smalley, Ro до центра кластера равно 2.222661027711071\n",
      "Расстояние от игрока Yount, Robi до центра кластера равно 2.5063187495736847\n",
      "Расстояние от игрока Garvey, Stev до центра кластера равно 4.760730577212966\n",
      "Расстояние от игрока Armas, Ton до центра кластера равно 2.612174677782611\n",
      "Расстояние от игрока Bernazard, Ton до центра кластера равно 4.350264887572524\n",
      "Расстояние от игрока Brunansky, To до центра кластера равно 3.3647593970074383\n",
      "Расстояние от игрока Harrah, Tob до центра кластера равно 3.88774153977324\n",
      "Расстояние от игрока Perez, Ton до центра кластера равно 6.584108679020342\n",
      "Расстояние от игрока Raines, Ti до центра кластера равно 3.702247873370665\n",
      "Расстояние от игрока Simmons, Te до центра кластера равно 5.665800583690978\n",
      "Расстояние от игрока Hayes, Vo до центра кластера равно 5.340628566442283\n",
      "Расстояние от игрока Boggs, Wad до центра кластера равно 5.4892118956808735\n",
      "Расстояние от игрока Randolph, Willi до центра кластера равно 4.364450660721476\n",
      "Расстояние от игрока Upshaw, Willi до центра кластера равно 4.753429350645244\n",
      "Расстояние от игрока Wilson, Willi до центра кластера равно 3.4353177814145077\n",
      "-------------------------------------------------------------\n",
      "Наименьшее расстояние до центра у игрока Lemon, Chet\n"
     ]
    }
   ],
   "source": [
    "import math\n",
    "\n",
    "minn = 1000\n",
    "for i in range(len(clustering.labels_)):\n",
    "    if clustering.labels_[i] == 0:\n",
    "        print(\"Расстояние от игрока\", df.iloc[[i]][\"Name\"].values[0][:-1], \"до центра кластера равно\", math.dist(centers[0], df_s.iloc[[i]].values[0][:-1]))\n",
    "        if math.dist(centers[0], df_s.iloc[[i]].values[0][:-1]) < minn:\n",
    "            minn = math.dist(centers[0], df_s.iloc[[i]].values[0][:-1])\n",
    "            k = i\n",
    "print(\"-------------------------------------------------------------\")\n",
    "print(\"Наименьшее расстояние до центра у игрока\", df.iloc[[k]][\"Name\"].values[0])"
   ]
  },
  {
   "cell_type": "markdown",
   "metadata": {},
   "source": [
    "В результате оказалось, что самого типичного игрока зовут Lemon Chet."
   ]
  },
  {
   "cell_type": "markdown",
   "metadata": {},
   "source": [
    "Для части 2. Выберем в качестве размеров сетки значения 2 и 2. И обучим SOM с этой сеткой."
   ]
  },
  {
   "cell_type": "code",
   "execution_count": 24,
   "metadata": {},
   "outputs": [],
   "source": [
    "baseball_som = SOM(m=2, n=2, dim = X.shape[1])\n",
    "baseball_som.fit(X.to_numpy())\n",
    "\n",
    "labels = baseball_som.predict(X.to_numpy())"
   ]
  },
  {
   "cell_type": "markdown",
   "metadata": {},
   "source": [
    "Посмотрим в каком кластере наибольшое значение величины nHits."
   ]
  },
  {
   "cell_type": "code",
   "execution_count": 25,
   "metadata": {},
   "outputs": [
    {
     "data": {
      "text/plain": [
       "<AxesSubplot:ylabel='nHits'>"
      ]
     },
     "execution_count": 25,
     "metadata": {},
     "output_type": "execute_result"
    },
    {
     "data": {
      "image/png": "[encoded data removed]",
      "text/plain": [
       "<Figure size 432x288 with 1 Axes>"
      ]
     },
     "metadata": {
      "needs_background": "light"
     },
     "output_type": "display_data"
    }
   ],
   "source": [
    "sns.barplot(x = labels, y = X[\"nHits\"], capsize = 0.1)"
   ]
  },
  {
   "cell_type": "markdown",
   "metadata": {},
   "source": [
    "Как можно заметить, в кластере номер 4 находятся в среднем самые успешные игроки 1986 года."
   ]
  },
  {
   "cell_type": "code",
   "execution_count": 26,
   "metadata": {},
   "outputs": [
    {
     "name": "stdout",
     "output_type": "stream",
     "text": [
      "Число людей в 1 кластере: 42\n",
      "Число людей во 2 кластере: 84\n",
      "Число людей в 3 кластере: 109\n",
      "Число людей в 4 кластере: 87\n"
     ]
    }
   ],
   "source": [
    "print(\"Число людей в 1 кластере:\", len(labels[labels == 0]))\n",
    "print(\"Число людей во 2 кластере:\",len(labels[labels == 1]))\n",
    "print(\"Число людей в 3 кластере:\",len(labels[labels == 2]))\n",
    "print(\"Число людей в 4 кластере:\",len(labels[labels == 3]))"
   ]
  },
  {
   "cell_type": "markdown",
   "metadata": {},
   "source": [
    "Как можно заметить, в 4 кластере находится 87 человек. Далее найдем самого типичного игрока нашего кластера."
   ]
  },
  {
   "cell_type": "code",
   "execution_count": 27,
   "metadata": {},
   "outputs": [],
   "source": [
    "df_s[\"lab\"] = labels\n",
    "center4 = df_s.loc[df_s[\"lab\"] == 3].sum().values[:-1] / len(df_s.loc[df_s[\"lab\"] == 3])"
   ]
  },
  {
   "cell_type": "code",
   "execution_count": 29,
   "metadata": {},
   "outputs": [
    {
     "name": "stdout",
     "output_type": "stream",
     "text": [
      "Расстояние от игрока Davis, Alan до центра кластера равно 2.270197015133633\n",
      "Расстояние от игрока Van Slyke, Andy до центра кластера равно 2.239981958316177\n",
      "Расстояние от игрока Bonds, Barry до центра кластера равно 2.775601129463064\n",
      "Расстояние от игрока Brenly, Bob до центра кластера равно 2.189614604297169\n",
      "Расстояние от игрока Butler, Brett до центра кластера равно 2.878462558638489\n",
      "Расстояние от игрока Diaz, Bo до центра кластера равно 2.3478051700180598\n",
      "Расстояние от игрока Doran, Bill до центра кластера равно 2.93339372433804\n",
      "Расстояние от игрока Jacoby, Brook до центра кластера равно 2.7510601061851316\n",
      "Расстояние от игрока Brown, Chris до центра кластера равно 2.7378660034160003\n",
      "Расстояние от игрока Davis, Chili до центра кластера равно 2.2133511753272206\n",
      "Расстояние от игрока Maldonado, Candy до центра кластера равно 3.1698425776048147\n",
      "Расстояние от игрока Ripken, Cal до центра кластера равно 3.6227610866420203\n",
      "Расстояние от игрока Snyder, Cory до центра кластера равно 2.8966377595622235\n",
      "Расстояние от игрока Coles, Darnell до центра кластера равно 2.5833642434700166\n",
      "Расстояние от игрока Henderson, Dave до центра кластера равно 2.6535997029102414\n",
      "Расстояние от игрока Mattingly, Don до центра кластера равно 5.1939251495369225\n",
      "Расстояние от игрока Schofield, Dick до центра кластера равно 2.478540740500269\n",
      "Расстояние от игрока Strawberry, Darryl до центра кластера равно 2.5579703936579903\n",
      "Расстояние от игрока Tartabull, Danny до центра кластера равно 2.37149819104818\n",
      "Расстояние от игрока Davis, Eric до центра кластера равно 2.5414370729910454\n",
      "Расстояние от игрока Milner, Eddie до центра кластера равно 2.497447881426065\n",
      "Расстояние от игрока Riles, Ernest до центра кластера равно 2.6166593716551287\n",
      "Расстояние от игрока Whitt, Ernie до центра кластера равно 2.761113287178925\n",
      "Расстояние от игрока Stubbs, Franklin до центра кластера равно 2.686001017830589\n",
      "Расстояние от игрока Bell, George до центра кластера равно 3.1590308564955\n",
      "Расстояние от игрока Davis, Glenn до центра кластера равно 3.7883731309083903\n",
      "Расстояние от игрока Gaetti, Gary до центра кластера равно 3.6768618891722755\n",
      "Расстояние от игрока Gagne, Greg до центра кластера равно 3.477289833421585\n",
      "Расстояние от игрока Pettis, Gary до центра кластера равно 2.2754299824265494\n",
      "Расстояние от игрока Wilson, Glenn до центра кластера равно 1.8817976469222457\n",
      "Расстояние от игрока Barfield, Jesse до центра кластера равно 4.011789060245875\n",
      "Расстояние от игрока Canseco, Jose до центра кластера равно 3.2082311483491033\n",
      "Расстояние от игрока Carter, Joe до центра кластера равно 3.662586200357961\n",
      "Расстояние от игрока Davis, Jody до центра кластера равно 2.2290720792067735\n",
      "Расстояние от игрока Franco, Julio до центра кластера равно 2.6723954372714758\n",
      "Расстояние от игрока Morrison, Jim до центра кластера равно 2.6998851879834396\n",
      "Расстояние от игрока Presley, Jim до центра кластера равно 2.855028600506303\n",
      "Расстояние от игрока Ray, Johnny до центра кластера равно 3.189353798012519\n",
      "Расстояние от игрока Samuel, Juan до центра кластера равно 3.393955632507338\n",
      "Расстояние от игрока Bass, Kevin до центра кластера равно 2.034112698235208\n",
      "Расстояние от игрока Gibson, Kirk до центра кластера равно 3.16271316736254\n",
      "Расстояние от игрока Hrbek, Kent до центра кластера равно 3.74718664396118\n",
      "Расстояние от игрока McReynolds, Kevin до центра кластера равно 2.1531312615081504\n",
      "Расстояние от игрока Phelps, Ken до центра кластера равно 3.8282675420841903\n",
      "Расстояние от игрока Puckett, Kirby до центра кластера равно 3.701484200128879\n",
      "Расстояние от игрока Durham, Leon до центра кластера равно 3.600914634400967\n",
      "Расстояние от игрока Dykstra, Len до центра кластера равно 2.686614354959163\n",
      "Расстояние от игрока Moseby, Lloyd до центра кластера равно 2.5686155702531392\n",
      "Расстояние от игрока Barrett, Marty до центра кластера равно 3.0894240451252197\n",
      "Расстояние от игрока Davis, Mike до центра кластера равно 1.7368868184841852\n",
      "Расстояние от игрока Hall, Mel до центра кластера равно 1.9234277827146222\n",
      "Расстояние от игрока Pagliarulo, Mike до центра кластера равно 2.472717820227807\n",
      "Расстояние от игрока Webster, Mitch до центра кластера равно 2.1710220612246007\n",
      "Расстояние от игрока Guillen, Ozzie до центра кластера равно 4.163617867994747\n",
      "Расстояние от игрока McDowell, Oddibe до центра кластера равно 2.500908717826416\n",
      "Расстояние от игрока Virgil, Ozzie до центра кластера равно 2.761156512840365\n",
      "Расстояние от игрока Bradley, Phil до центра кластера равно 2.6368325241173265\n",
      "Расстояние от игрока Incaviglia, Pete до центра кластера равно 2.6242157604631484\n",
      "Расстояние от игрока O'Brien, Pete до центра кластера равно 3.5901626011457863\n",
      "Расстояние от игрока Tabler, Pat до центра кластера равно 2.6257110172330425\n",
      "Расстояние от игрока Deer, Rob до центра кластера равно 2.8776742175995476\n",
      "Расстояние от игрока Gedman, Rich до центра кластера равно 2.5085292795626013\n",
      "Расстояние от игрока Ramirez, Rafael до центра кластера равно 4.312589915137609\n",
      "Расстояние от игрока Sandberg, Ryne до центра кластера равно 3.2168316810809223\n",
      "Расстояние от игрока Thompson, Robby до центра кластера равно 3.1990094603583805\n",
      "Расстояние от игрока Balboni, Steve до центра кластера равно 3.7349966354565756\n",
      "Расстояние от игрока Bream, Sid до центра кластера равно 3.4991683037572434\n",
      "Расстояние от игрока Buechele, Steve до центра кластера равно 2.363721567859807\n",
      "Расстояние от игрока Dunston, Shawon до центра кластера равно 4.420791772575153\n",
      "Расстояние от игрока Fletcher, Scott до центра кластера равно 2.606834248033339\n",
      "Расстояние от игрока Owen, Spike до центра кластера равно 2.980352560707893\n",
      "Расстояние от игрока Sax, Steve до центра кластера равно 3.3188685187949583\n",
      "Расстояние от игрока Bernazard, Tony до центра кластера равно 2.839923412111457\n",
      "Расстояние от игрока Brunansky, Tom до центра кластера равно 2.1766995909386417\n",
      "Расстояние от игрока Fernandez, Tony до центра кластера равно 3.3399635640369314\n",
      "Расстояние от игрока Gwynn, Tony до центра кластера равно 2.7444846129001577\n",
      "Расстояние от игрока Hulett, Tim до центра кластера равно 2.6200696014681846\n",
      "Расстояние от игрока Pena, Tony до центра кластера равно 2.4165562975038215\n",
      "Расстояние от игрока Pendleton, Terry до центра кластера равно 3.328838333928927\n",
      "Расстояние от игрока Phillips, Tony до центра кластера равно 2.580414649160019\n",
      "Расстояние от игрока Coleman, Vince до центра кластера равно 3.1097755354044594\n",
      "Расстояние от игрока Hayes, Von до центра кластера равно 3.7057674760871646\n",
      "Расстояние от игрока Boggs, Wade до центра кластера равно 4.06396896647303\n",
      "Расстояние от игрока Clark, Will до центра кластера равно 3.1197121461214863\n",
      "Расстояние от игрока Joyner, Wally до центра кластера равно 3.547672242239321\n",
      "Расстояние от игрока McGee, Willie до центра кластера равно 2.575729649486046\n",
      "Расстояние от игрока Upshaw, Willie до центра кластера равно 3.9353877535121655\n",
      "-------------------------------------------------------------\n",
      "Наименьшее расстояние до центра у игрока Upshaw, Willie\n"
     ]
    }
   ],
   "source": [
    "import math\n",
    "\n",
    "minn = 1000\n",
    "for i in range(len(labels)):\n",
    "    if labels[i] == 3:\n",
    "        print(\"Расстояние от игрока\", df.iloc[[i]][\"Name\"].values[0], \"до центра кластера равно\", math.dist(center4, df_s.iloc[[i]].values[0][:-1]))\n",
    "        if math.dist(center4, df_s.iloc[[i]].values[0][:-1]) < minn:\n",
    "            minn = math.dist(centers[0], df_s.iloc[[i]].values[0][:-1])\n",
    "            k = i\n",
    "print(\"-------------------------------------------------------------\")\n",
    "print(\"Наименьшее расстояние до центра у игрока\", df.iloc[[k]][\"Name\"].values[0])"
   ]
  },
  {
   "cell_type": "markdown",
   "metadata": {},
   "source": [
    "Как можно заметить, самого типичного игрока нашего кластера зовут Upshaw, Willie."
   ]
  }
 ],
 "metadata": {
  "colab": {
   "collapsed_sections": [],
   "name": "Задание2ИАД.ipynb",
   "provenance": []
  },
  "kernelspec": {
   "display_name": "Python 3 (ipykernel)",
   "language": "python",
   "name": "python3"
  },
  "language_info": {
   "codemirror_mode": {
    "name": "ipython",
    "version": 3
   },
   "file_extension": ".py",
   "mimetype": "text/x-python",
   "name": "python",
   "nbconvert_exporter": "python",
   "pygments_lexer": "ipython3",
   "version": "3.8.5"
  }
 },
 "nbformat": 4,
 "nbformat_minor": 1
}
