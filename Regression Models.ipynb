{
 "cells": [
  {
   "cell_type": "code",
   "execution_count": 1,
   "metadata": {
    "id": "p41tv6DRBq3v"
   },
   "outputs": [],
   "source": [
    "import warnings\n",
    "warnings.filterwarnings('ignore')"
   ]
  },
  {
   "cell_type": "markdown",
   "metadata": {
    "id": "BvlBvTDIn371"
   },
   "source": [
    "### Импорт библиотек"
   ]
  },
  {
   "cell_type": "code",
   "execution_count": 2,
   "metadata": {
    "id": "VB-0IuuFnwtp"
   },
   "outputs": [],
   "source": [
    "# Импорт библиотек для проведения расчетов\n",
    "import pandas as pd\n",
    "import numpy as np\n",
    "from sklearn.preprocessing import StandardScaler\n",
    "from sklearn.preprocessing import QuantileTransformer\n",
    "from sklearn.decomposition import PCA\n",
    "\n",
    "from sklearn.model_selection import train_test_split\n",
    "from sklearn.pipeline import Pipeline\n",
    "from sklearn.preprocessing import FunctionTransformer\n",
    "from sklearn.metrics import mean_squared_error"
   ]
  },
  {
   "cell_type": "code",
   "execution_count": 3,
   "metadata": {
    "id": "waEHhJ88dGHf"
   },
   "outputs": [],
   "source": [
    "# Импорт библиотек для визуализации\n",
    "from matplotlib import pyplot as plt\n",
    "import seaborn as sns"
   ]
  },
  {
   "cell_type": "code",
   "execution_count": 4,
   "metadata": {
    "colab": {
     "base_uri": "https://localhost:8080/"
    },
    "id": "wgo080PnQxUS",
    "outputId": "4e9f2b7e-5073-45c4-8b08-ff435ec5805a"
   },
   "outputs": [],
   "source": [
    "# Импорт библиотеки кластеризации переменных\n",
    "# https://pypi.org/project/varclushi/\n",
    "from varclushi import VarClusHi"
   ]
  },
  {
   "cell_type": "markdown",
   "metadata": {
    "id": "E79qR3s7n_1X"
   },
   "source": [
    "## Загрузка данных"
   ]
  },
  {
   "cell_type": "code",
   "execution_count": 5,
   "metadata": {
    "id": "jtYmPhhDoCQI"
   },
   "outputs": [],
   "source": [
    "# Указываем путь к файлу\n",
    "# При работе с google colab существует 2 варианта загрузки файла:\n",
    "# 1. Через google drive\n",
    "# 2. Через левое меню: \"файлы\" -> \"загрузить в сессионное хранилище\" -> \"скопировать файл\" (при наведении на файл)\n",
    "file_path = 'C:/Users/Frederik/Desktop/white_wine.csv'"
   ]
  },
  {
   "cell_type": "code",
   "execution_count": 6,
   "metadata": {
    "colab": {
     "base_uri": "https://localhost:8080/",
     "height": 206
    },
    "id": "E8LgzOBwoKsT",
    "outputId": "6f7a217a-a0a5-4150-cab0-ef46616dcf15"
   },
   "outputs": [
    {
     "data": {
      "text/html": [
       "<div>\n",
       "<style scoped>\n",
       "    .dataframe tbody tr th:only-of-type {\n",
       "        vertical-align: middle;\n",
       "    }\n",
       "\n",
       "    .dataframe tbody tr th {\n",
       "        vertical-align: top;\n",
       "    }\n",
       "\n",
       "    .dataframe thead th {\n",
       "        text-align: right;\n",
       "    }\n",
       "</style>\n",
       "<table border=\"1\" class=\"dataframe\">\n",
       "  <thead>\n",
       "    <tr style=\"text-align: right;\">\n",
       "      <th></th>\n",
       "      <th>fixed acidity</th>\n",
       "      <th>volatile acidity</th>\n",
       "      <th>citric acid</th>\n",
       "      <th>sugar</th>\n",
       "      <th>chlorides</th>\n",
       "      <th>free sulfur dioxide</th>\n",
       "      <th>total sulfur dioxide</th>\n",
       "      <th>density</th>\n",
       "      <th>pH</th>\n",
       "      <th>sulphates</th>\n",
       "      <th>alcohol</th>\n",
       "      <th>target_quality</th>\n",
       "    </tr>\n",
       "  </thead>\n",
       "  <tbody>\n",
       "    <tr>\n",
       "      <th>0</th>\n",
       "      <td>7.0</td>\n",
       "      <td>0.27</td>\n",
       "      <td>0.36</td>\n",
       "      <td>20.7</td>\n",
       "      <td>0.045</td>\n",
       "      <td>45.0</td>\n",
       "      <td>170.0</td>\n",
       "      <td>1.0010</td>\n",
       "      <td>3.00</td>\n",
       "      <td>0.45</td>\n",
       "      <td>8.8</td>\n",
       "      <td>6.0</td>\n",
       "    </tr>\n",
       "    <tr>\n",
       "      <th>1</th>\n",
       "      <td>6.3</td>\n",
       "      <td>0.30</td>\n",
       "      <td>0.34</td>\n",
       "      <td>1.6</td>\n",
       "      <td>0.049</td>\n",
       "      <td>14.0</td>\n",
       "      <td>132.0</td>\n",
       "      <td>0.9940</td>\n",
       "      <td>3.30</td>\n",
       "      <td>0.49</td>\n",
       "      <td>9.5</td>\n",
       "      <td>6.0</td>\n",
       "    </tr>\n",
       "    <tr>\n",
       "      <th>2</th>\n",
       "      <td>8.1</td>\n",
       "      <td>0.28</td>\n",
       "      <td>0.40</td>\n",
       "      <td>6.9</td>\n",
       "      <td>0.050</td>\n",
       "      <td>30.0</td>\n",
       "      <td>97.0</td>\n",
       "      <td>0.9951</td>\n",
       "      <td>3.26</td>\n",
       "      <td>0.44</td>\n",
       "      <td>10.1</td>\n",
       "      <td>6.0</td>\n",
       "    </tr>\n",
       "    <tr>\n",
       "      <th>3</th>\n",
       "      <td>7.2</td>\n",
       "      <td>0.23</td>\n",
       "      <td>0.32</td>\n",
       "      <td>8.5</td>\n",
       "      <td>0.058</td>\n",
       "      <td>47.0</td>\n",
       "      <td>186.0</td>\n",
       "      <td>0.9956</td>\n",
       "      <td>3.19</td>\n",
       "      <td>0.40</td>\n",
       "      <td>9.9</td>\n",
       "      <td>6.0</td>\n",
       "    </tr>\n",
       "    <tr>\n",
       "      <th>4</th>\n",
       "      <td>7.2</td>\n",
       "      <td>0.23</td>\n",
       "      <td>0.32</td>\n",
       "      <td>8.5</td>\n",
       "      <td>0.058</td>\n",
       "      <td>47.0</td>\n",
       "      <td>186.0</td>\n",
       "      <td>0.9956</td>\n",
       "      <td>3.19</td>\n",
       "      <td>0.40</td>\n",
       "      <td>9.9</td>\n",
       "      <td>6.0</td>\n",
       "    </tr>\n",
       "  </tbody>\n",
       "</table>\n",
       "</div>"
      ],
      "text/plain": [
       "   fixed acidity      volatile acidity      citric acid      sugar    \\\n",
       "0              7.0                  0.27             0.36       20.7   \n",
       "1              6.3                  0.30             0.34        1.6   \n",
       "2              8.1                  0.28             0.40        6.9   \n",
       "3              7.2                  0.23             0.32        8.5   \n",
       "4              7.2                  0.23             0.32        8.5   \n",
       "\n",
       "     chlorides      free sulfur dioxide      total sulfur dioxide    \\\n",
       "0          0.045                     45.0                     170.0   \n",
       "1          0.049                     14.0                     132.0   \n",
       "2          0.050                     30.0                      97.0   \n",
       "3          0.058                     47.0                     186.0   \n",
       "4          0.058                     47.0                     186.0   \n",
       "\n",
       "     density      pH      sulphates      alcohol      target_quality     \n",
       "0       1.0010    3.00           0.45          8.8                  6.0  \n",
       "1       0.9940    3.30           0.49          9.5                  6.0  \n",
       "2       0.9951    3.26           0.44         10.1                  6.0  \n",
       "3       0.9956    3.19           0.40          9.9                  6.0  \n",
       "4       0.9956    3.19           0.40          9.9                  6.0  "
      ]
     },
     "execution_count": 6,
     "metadata": {},
     "output_type": "execute_result"
    }
   ],
   "source": [
    "# Загружаем данные из SAS файла\n",
    "df = pd.read_csv(file_path)\n",
    "df = df.astype('float')\n",
    "# Пример данных\n",
    "df.head()"
   ]
  },
  {
   "cell_type": "markdown",
   "metadata": {
    "id": "do4hZydVE-Mx"
   },
   "source": [
    "## Функции обработки"
   ]
  },
  {
   "cell_type": "code",
   "execution_count": 7,
   "metadata": {
    "id": "WFFnRUa7bghT"
   },
   "outputs": [],
   "source": [
    "# Метод главных компонент\n",
    "def pca_transform(X, transform = []):\n",
    "    pca_model = PCA(n_components='mle')\n",
    "    pca_model.fit(X)\n",
    "\n",
    "    if transform == []:\n",
    "        transform = [X]\n",
    "    return [pca_model.transform(t) for t in transform]"
   ]
  },
  {
   "cell_type": "code",
   "execution_count": 8,
   "metadata": {
    "id": "xkDFlEqVRyX1"
   },
   "outputs": [],
   "source": [
    "# Кластеризация переменных\n",
    "def variable_clustering(X, transform = []):\n",
    "    var_clust_model = VarClusHi(X, maxeigval2 = .7, maxclus = None)\n",
    "    var_clust_model.varclus()\n",
    "    var_clust = var_clust_model.rsquare.loc[:, [\"Cluster\",\"Variable\",\"RS_Ratio\"]]\n",
    "    vars = var_clust.sort_values(\"RS_Ratio\").drop_duplicates(['Cluster'],keep='first')[\"Variable\"].to_list()\n",
    "\n",
    "    if transform == []:\n",
    "        transform = [X]\n",
    "    return [t.loc[:, vars] for t in transform]"
   ]
  },
  {
   "cell_type": "code",
   "execution_count": 9,
   "metadata": {
    "id": "PoJOgLC9xylf"
   },
   "outputs": [],
   "source": [
    "# Разделение на обучающую, валидационную и тестовую выборку\n",
    "def data_partition(X, y):\n",
    "    X_train, X_test_val, y_train, y_test_val = train_test_split(X, y, stratify = y, test_size=0.6, random_state=42)\n",
    "    X_val, X_test, y_val, y_test = train_test_split(X_test_val, y_test_val, stratify = y_test_val, test_size=0.5, random_state=42)\n",
    "    return (X_train, y_train, X_val, y_val, X_test, y_test)"
   ]
  },
  {
   "cell_type": "code",
   "execution_count": 10,
   "metadata": {
    "id": "l3pnB8YFMU5a"
   },
   "outputs": [],
   "source": [
    "# Расчет ошибки прогнозирования\n",
    "def score_model_mae(model, \n",
    "                    X_train, y_train,\n",
    "                    X_val, y_val,\n",
    "                    X_test, y_test):\n",
    "    print(model.__class__.__name__)\n",
    "    print(\"TRAIN MSE: {:f}\".format(mean_squared_error(y_train, model.predict(X_train))))\n",
    "    print(\"VAL MSE: {:f}\".format(mean_squared_error(y_val, model.predict(X_val))))\n",
    "    print(\"TEST MSE: {:f}\".format(mean_squared_error(y_test, model.predict(X_test))))"
   ]
  },
  {
   "cell_type": "markdown",
   "metadata": {
    "id": "kw1nPAhesq5q"
   },
   "source": [
    "## Формирование признакового пространства"
   ]
  },
  {
   "cell_type": "code",
   "execution_count": 11,
   "metadata": {
    "id": "gjd_hshctEQm"
   },
   "outputs": [],
   "source": [
    "# Сформируем признаковое пространство:\n",
    "# Целевая переменная: target_quality. Описывает субъективную оценку качества сорта вина. \n",
    "# Остальные переменные - входные. \n",
    "# Задача – спрогнозировать оценку эксперта в зависимости от объективных химических показателей вина и выявить важные признаки\n",
    "y = df[\"  target_quality   \"].to_frame()\n",
    "X = df.loc[:, list(set(df.columns) - {\"  target_quality   \"})]\n",
    "\n",
    "# Дискретизация отклика\n",
    "qtransform = QuantileTransformer(output_distribution='normal', n_quantiles = 5, random_state = 42)\n",
    "y.values[:] = qtransform.fit_transform(y)"
   ]
  },
  {
   "cell_type": "markdown",
   "metadata": {
    "id": "l9YYUjBdswjQ"
   },
   "source": [
    "## Часть 1: KNN"
   ]
  },
  {
   "cell_type": "code",
   "execution_count": 12,
   "metadata": {
    "colab": {
     "base_uri": "https://localhost:8080/"
    },
    "id": "tw0XDXzns9V3",
    "outputId": "c00502be-d844-4678-e39c-aec0bb09dd13"
   },
   "outputs": [
    {
     "name": "stdout",
     "output_type": "stream",
     "text": [
      "KNeighborsRegressor\n",
      "TRAIN MSE: 0.385404\n",
      "VAL MSE: 0.441951\n",
      "TEST MSE: 0.402548\n"
     ]
    }
   ],
   "source": [
    "from sklearn.neighbors import KNeighborsRegressor\n",
    "\n",
    "X_train, y_train, X_val, y_val, X_test, y_test = data_partition(X, y)\n",
    "\n",
    "# Стандартизация\n",
    "scaler = StandardScaler()\n",
    "scaler.fit(X_train)\n",
    "for X_ in (X_train, X_val, X_test):\n",
    "    X_.values[:] = scaler.transform(X_)\n",
    "\n",
    "# PCA или Variable clustring (вставьте свой код)\n",
    "\n",
    "\n",
    "# KNN \n",
    "knn = KNeighborsRegressor(n_neighbors=20)\n",
    "knn.fit(X_train, y_train)\n",
    "\n",
    "# Score\n",
    "score_model_mae(knn, X_train, y_train, X_val, y_val, X_test, y_test)"
   ]
  },
  {
   "cell_type": "markdown",
   "metadata": {},
   "source": [
    "1. На тренировочном наборе данных было получено MSE 0.385404, на валидационном 0.441951, а на тестовом 0.402548."
   ]
  },
  {
   "cell_type": "code",
   "execution_count": 13,
   "metadata": {
    "scrolled": true
   },
   "outputs": [
    {
     "name": "stdout",
     "output_type": "stream",
     "text": [
      "KNeighborsRegressor\n",
      "TRAIN MSE: 0.413794\n",
      "VAL MSE: 0.450412\n",
      "TEST MSE: 0.432806\n"
     ]
    }
   ],
   "source": [
    "X_train, y_train, X_val, y_val, X_test, y_test = data_partition(X, y)\n",
    "\n",
    "# Стандартизация\n",
    "scaler = StandardScaler()\n",
    "scaler.fit(X_train)\n",
    "for X_ in (X_train, X_val, X_test):\n",
    "    X_.values[:] = scaler.transform(X_)\n",
    "\n",
    "# PCA или Variable clustring (вставьте свой код)\n",
    "variables = variable_clustering(X_train)[0].columns\n",
    "X_train = X_train[variables]\n",
    "X_val = X_val[variables]\n",
    "X_test = X_test[variables]\n",
    "\n",
    "# KNN \n",
    "knn = KNeighborsRegressor(n_neighbors=20)\n",
    "knn.fit(X_train, y_train)\n",
    "\n",
    "# Score\n",
    "score_model_mae(knn, X_train, y_train, X_val, y_val, X_test, y_test)"
   ]
  },
  {
   "cell_type": "code",
   "execution_count": 14,
   "metadata": {},
   "outputs": [
    {
     "name": "stdout",
     "output_type": "stream",
     "text": [
      "Количество переменных в исходном наборе данных: 11\n",
      "Количество переменных после обработки: 7\n"
     ]
    }
   ],
   "source": [
    "print(\"Количество переменных в исходном наборе данных:\", len(X.columns))\n",
    "print(\"Количество переменных после обработки:\", len(variables))"
   ]
  },
  {
   "cell_type": "markdown",
   "metadata": {},
   "source": [
    "3. Количество переменных в исходном наборе данных было равно 11, в то время как количество переменных после обработки стало равно 7. После обработки, на тренировочном наборе данных было получено MSE 0.413794, на валидационном 0.450412, а на тестовом 0.432806. В результате данной обработки, значения MSE увеличились на всех наборах данных. Это может быть связано с тем, что среди убранных переменных были те переменные, которые несли в себе важную информацию и убрав эти переменные мы только ухудшили прогноз."
   ]
  },
  {
   "cell_type": "markdown",
   "metadata": {
    "id": "KbTrtDyoYY5l"
   },
   "source": [
    "### Вопросы части 1:\n",
    "\n",
    "1. Какие значения MSE получились на тренировочном, валидационном и тестовом наборе данных?\n",
    "2. Перед применением KNN вставьте предобработку PCA (Вариант I), Variable clustering (Вариант II). \n",
    "3. Сколько переменных теперь передается на вход KNN? Как изменились значения MSE в результате? Почему это могло произойти?"
   ]
  },
  {
   "cell_type": "markdown",
   "metadata": {
    "id": "dJ0oISO9s2TM"
   },
   "source": [
    "## Часть 2: Regression"
   ]
  },
  {
   "cell_type": "code",
   "execution_count": 15,
   "metadata": {
    "id": "v-tCK0jas8O6"
   },
   "outputs": [],
   "source": [
    "from sklearn.preprocessing import MinMaxScaler\n",
    "from sklearn.preprocessing import PolynomialFeatures\n",
    "from sklearn.linear_model import LinearRegression\n",
    "from sklearn.feature_selection import SequentialFeatureSelector\n",
    "import statsmodels.api as sm\n",
    "# Документация для OLS\n",
    "# https://bookdown.org/mike/data_analysis/ordinary-least-squares.html\n",
    "\n",
    "X_train, y_train, X_val, y_val, X_test, y_test = data_partition(X, y)"
   ]
  },
  {
   "cell_type": "code",
   "execution_count": 16,
   "metadata": {},
   "outputs": [],
   "source": [
    "# Построим полиномиальную регрессию (degree = 2)\n",
    "\n",
    "# Отобразмим пространство признаков в пространство полиномов степени 2\n",
    "poly_reg = PolynomialFeatures(degree=2)\n",
    "X_train = poly_reg.fit_transform(X_train)\n",
    "X_val = poly_reg.transform(X_val)\n",
    "X_test = poly_reg.transform(X_test)"
   ]
  },
  {
   "cell_type": "code",
   "execution_count": 1,
   "metadata": {},
   "outputs": [
    {
     "ename": "NameError",
     "evalue": "name 'X_train' is not defined",
     "output_type": "error",
     "traceback": [
      "\u001b[1;31m---------------------------------------------------------------------------\u001b[0m",
      "\u001b[1;31mNameError\u001b[0m                                 Traceback (most recent call last)",
      "\u001b[1;32m~\\AppData\\Local\\Temp\\ipykernel_21612\\2681735276.py\u001b[0m in \u001b[0;36m<module>\u001b[1;34m\u001b[0m\n\u001b[0;32m      1\u001b[0m \u001b[1;31m# Определим лучшее число признаков с помощью Backward (измените код для отбора с помощью Forward)\u001b[0m\u001b[1;33m\u001b[0m\u001b[1;33m\u001b[0m\u001b[1;33m\u001b[0m\u001b[0m\n\u001b[0;32m      2\u001b[0m \u001b[0mbest_feats\u001b[0m \u001b[1;33m=\u001b[0m \u001b[1;32mNone\u001b[0m\u001b[1;33m\u001b[0m\u001b[1;33m\u001b[0m\u001b[0m\n\u001b[1;32m----> 3\u001b[1;33m \u001b[0mfeatures\u001b[0m \u001b[1;33m=\u001b[0m \u001b[0mlist\u001b[0m\u001b[1;33m(\u001b[0m\u001b[0mrange\u001b[0m\u001b[1;33m(\u001b[0m\u001b[0mX_train\u001b[0m\u001b[1;33m.\u001b[0m\u001b[0mshape\u001b[0m\u001b[1;33m[\u001b[0m\u001b[1;36m1\u001b[0m\u001b[1;33m]\u001b[0m\u001b[1;33m)\u001b[0m\u001b[1;33m)\u001b[0m\u001b[1;33m\u001b[0m\u001b[1;33m\u001b[0m\u001b[0m\n\u001b[0m\u001b[0;32m      4\u001b[0m \u001b[0merrs\u001b[0m \u001b[1;33m=\u001b[0m \u001b[1;33m[\u001b[0m\u001b[1;33m]\u001b[0m\u001b[1;33m\u001b[0m\u001b[1;33m\u001b[0m\u001b[0m\n\u001b[0;32m      5\u001b[0m \u001b[1;32mwhile\u001b[0m \u001b[0mlen\u001b[0m\u001b[1;33m(\u001b[0m\u001b[0mfeatures\u001b[0m\u001b[1;33m)\u001b[0m \u001b[1;33m>\u001b[0m \u001b[1;36m0\u001b[0m\u001b[1;33m:\u001b[0m\u001b[1;33m\u001b[0m\u001b[1;33m\u001b[0m\u001b[0m\n",
      "\u001b[1;31mNameError\u001b[0m: name 'X_train' is not defined"
     ]
    }
   ],
   "source": [
    "# Определим лучшее число признаков с помощью Backward (измените код для отбора с помощью Forward)\n",
    "best_feats = None\n",
    "features = list(range(X_train.shape[1]))\n",
    "errs = []\n",
    "while len(features) > 0:\n",
    "    lr = LinearRegression()\n",
    "    lr.fit(X_train[:, features], y_train)\n",
    "    err = mean_squared_error(y_val, lr.predict(X_val[:, features]))\n",
    "    errs.append(err)\n",
    "    if min(errs) == err:\n",
    "        best_feats = features.copy()\n",
    "\n",
    "    model = sm.OLS(y_train, X_train[:, features])\n",
    "    res = model.fit()\n",
    "\n",
    "    # Выбираем худший признак и удаляем из пространства признаков\n",
    "    worse_feature = features[np.argmax(res.pvalues)]\n",
    "    features.remove(worse_feature)\n",
    "\n",
    "# Визуализируем ошибки\n",
    "idx = len(errs) - len(best_feats)\n",
    "plt.plot(errs)\n",
    "plt.plot(idx, errs[idx], 'P', ms=10, mfc='red')\n",
    "plt.xlabel(\"Номер итерации\")\n",
    "plt.ylabel(\"MSE\")\n",
    "plt.title(\"Ошибка при отборе признаков методом Backward\")\n",
    "plt.show()\n",
    "\n",
    "# Обучим линейную регрессию на лучших признаках\n",
    "lr = LinearRegression()\n",
    "lr.fit(X_train[:, best_feats], y_train)\n",
    "\n",
    "score_model_mae(lr, \n",
    "                X_train[:, best_feats], y_train, \n",
    "                X_val[:, best_feats], y_val, \n",
    "                X_test[:, best_feats], y_test)"
   ]
  },
  {
   "cell_type": "markdown",
   "metadata": {},
   "source": [
    "1. Реализуем метод Forward"
   ]
  },
  {
   "cell_type": "code",
   "execution_count": 18,
   "metadata": {},
   "outputs": [
    {
     "data": {
      "image/png": "[encoded data removed]",
      "text/plain": [
       "<Figure size 432x288 with 1 Axes>"
      ]
     },
     "metadata": {
      "needs_background": "light"
     },
     "output_type": "display_data"
    },
    {
     "name": "stdout",
     "output_type": "stream",
     "text": [
      "LinearRegression\n",
      "TRAIN MSE: 0.377577\n",
      "VAL MSE: 0.445842\n",
      "TEST MSE: 0.391788\n"
     ]
    }
   ],
   "source": [
    "# Определим лучшее число признаков с помощью Forward\n",
    "best_feats = None\n",
    "init_features = list(range(X_train.shape[1]))\n",
    "features = list()\n",
    "errs = []\n",
    "\n",
    "init_rss = 1\n",
    "\n",
    "while len(init_features) > 0:\n",
    "    best_rss = init_rss\n",
    "    for i in range(len(init_features)):\n",
    "        model = sm.OLS(y_train, X_train[:, init_features[i]])\n",
    "        res = model.fit()\n",
    "        if res.mse_resid <= best_rss:\n",
    "            best_rss = res.mse_resid\n",
    "            best_feature = i\n",
    "    features.append(init_features[best_feature])\n",
    "    init_features.remove(init_features[best_feature])\n",
    "    \n",
    "    lr = LinearRegression()\n",
    "    lr.fit(X_train[:, features], y_train)\n",
    "    err = mean_squared_error(y_val, lr.predict(X_val[:, features]))\n",
    "    errs.append(err)\n",
    "best_feats = features[:errs.index(min(errs))]\n",
    "\n",
    "# Визуализируем ошибки\n",
    "idx = len(best_feats)\n",
    "plt.plot(errs)\n",
    "plt.plot(idx, errs[idx], 'P', ms=10, mfc='red')\n",
    "plt.xlabel(\"Номер итерации\")\n",
    "plt.ylabel(\"MSE\")\n",
    "plt.title(\"Ошибка при отборе признаков методом Forward\")\n",
    "plt.show()\n",
    "\n",
    "# Обучим линейную регрессию на лучших признаках\n",
    "lr = LinearRegression()\n",
    "res = lr.fit(X_train[:, best_feats], y_train)\n",
    "\n",
    "score_model_mae(lr, \n",
    "                X_train[:, best_feats], y_train, \n",
    "                X_val[:, best_feats], y_val, \n",
    "                X_test[:, best_feats], y_test)"
   ]
  },
  {
   "cell_type": "markdown",
   "metadata": {},
   "source": [
    "2. На тестовом наборе лучшее качество демонстрирует метод Backward."
   ]
  },
  {
   "cell_type": "code",
   "execution_count": 19,
   "metadata": {},
   "outputs": [
    {
     "name": "stdout",
     "output_type": "stream",
     "text": [
      "  volatile acidity     chlorides  \n",
      "  volatile acidity     total sulfur dioxide  \n",
      "  sugar     total sulfur dioxide  \n",
      "  sugar     sugar  \n",
      "  chlorides     total sulfur dioxide  \n",
      "  volatile acidity     volatile acidity  \n",
      "  volatile acidity     sugar  \n",
      "  chlorides     sugar  \n"
     ]
    }
   ],
   "source": [
    "for j in [poly_reg.get_feature_names()[i] for i in features[errs.index(min(errs)):]]:\n",
    "    if len(j) == 5:\n",
    "        print(X.columns[int(j[1])], X.columns[int(j[4])])\n",
    "    else:\n",
    "        print(X.columns[int(j[1])], X.columns[int(j[1])])"
   ]
  },
  {
   "cell_type": "markdown",
   "metadata": {},
   "source": [
    "3. Переменные, невошедшие в результирующую регрессионую модель: \n",
    "\n",
    "\n",
    "  chlorides     volatile acidity  \n",
    "  total sulfur dioxide     volatile acidity  \n",
    "  total sulfur dioxide     sugar  \n",
    "  sugar     sugar  \n",
    "  total sulfur dioxide     chlorides  \n",
    "  volatile acidity     volatile acidity  \n",
    "  sugar     volatile acidity  \n",
    "  sugar     chlorides "
   ]
  },
  {
   "cell_type": "markdown",
   "metadata": {},
   "source": [
    "4. Лучшая модель была выбрана на 70 номере итерации, что несет в себе смысл 70 переменной в признаковом пространстве."
   ]
  },
  {
   "cell_type": "code",
   "execution_count": 22,
   "metadata": {},
   "outputs": [
    {
     "name": "stdout",
     "output_type": "stream",
     "text": [
      "                             OLS Regression Results                            \n",
      "===============================================================================\n",
      "Dep. Variable:       target_quality      R-squared:                       0.357\n",
      "Model:                             OLS   Adj. R-squared:                  0.333\n",
      "Method:                  Least Squares   F-statistic:                     15.18\n",
      "Date:                 Tue, 12 Apr 2022   Prob (F-statistic):          1.99e-134\n",
      "Time:                         18:08:13   Log-Likelihood:                -1825.7\n",
      "No. Observations:                 1959   AIC:                             3791.\n",
      "Df Residuals:                     1889   BIC:                             4182.\n",
      "Df Model:                           69                                         \n",
      "Covariance Type:             nonrobust                                         \n",
      "==============================================================================\n",
      "                 coef    std err          t      P>|t|      [0.025      0.975]\n",
      "------------------------------------------------------------------------------\n",
      "x1             0.0403      0.039      1.035      0.301      -0.036       0.117\n",
      "x2            -0.4390      0.374     -1.173      0.241      -1.173       0.295\n",
      "x3            -0.7198      0.337     -2.138      0.033      -1.380      -0.060\n",
      "x4             0.0099      0.003      3.548      0.000       0.004       0.015\n",
      "x5           -66.0846     34.324     -1.925      0.054    -133.402       1.233\n",
      "x6            68.7085     34.613      1.985      0.047       0.825     136.592\n",
      "x7            -0.0833      0.059     -1.405      0.160      -0.200       0.033\n",
      "x8            -0.0582      0.385     -0.151      0.880      -0.812       0.696\n",
      "x9             0.3604      0.853      0.423      0.673      -1.312       2.033\n",
      "x10            2.2364      1.345      1.663      0.097      -0.402       4.874\n",
      "x11            0.0091      0.011      0.861      0.389      -0.012       0.030\n",
      "x12            2.0044      0.969      2.068      0.039       0.104       3.905\n",
      "x13          234.0250    293.087      0.798      0.425    -340.784     808.834\n",
      "x14         -238.7608    296.900     -0.804      0.421    -821.047     343.526\n",
      "x15           -0.0221      0.011     -2.042      0.041      -0.043      -0.001\n",
      "x16          615.7706    227.708      2.704      0.007     169.186    1062.355\n",
      "x17         -629.8087    233.472     -2.698      0.007   -1087.699    -171.919\n",
      "x18           -5.0669      1.906     -2.659      0.008      -8.805      -1.329\n",
      "x19            5.0804      1.930      2.632      0.009       1.295       8.866\n",
      "const       2.747e+04   6034.035      4.552      0.000    1.56e+04    3.93e+04\n",
      "x20        -5.664e+04   1.23e+04     -4.592      0.000   -8.08e+04   -3.24e+04\n",
      "x21         2.919e+04   6333.773      4.608      0.000    1.68e+04    4.16e+04\n",
      "x22           -0.0011      0.001     -1.498      0.134      -0.002       0.000\n",
      "x23            0.0005      0.002      0.229      0.819      -0.004       0.005\n",
      "x24            2.0768      1.483      1.400      0.162      -0.832       4.985\n",
      "x25            0.0790      0.298      0.265      0.791      -0.506       0.664\n",
      "x26            1.1726      1.410      0.832      0.406      -1.592       3.937\n",
      "x27            0.4777      0.331      1.445      0.149      -0.171       1.126\n",
      "x28           -0.0024      0.010     -0.239      0.811      -0.022       0.017\n",
      "x29          178.3524    304.779      0.585      0.558    -419.387     776.092\n",
      "x30         -188.0531    308.858     -0.609      0.543    -793.792     417.686\n",
      "x31           17.3085     40.824      0.424      0.672     -62.757      97.374\n",
      "x32          -17.0052     41.880     -0.406      0.685     -99.142      65.131\n",
      "x33            0.3088      0.217      1.421      0.155      -0.117       0.735\n",
      "x34            0.1821      0.305      0.597      0.551      -0.416       0.780\n",
      "x35           -0.0752      0.038     -1.976      0.048      -0.150      -0.001\n",
      "x36            0.0058      0.004      1.433      0.152      -0.002       0.014\n",
      "x37           -0.0043      0.005     -0.850      0.396      -0.014       0.006\n",
      "x38            0.0651      0.316      0.206      0.837      -0.554       0.684\n",
      "x39           -0.0659      0.315     -0.209      0.834      -0.684       0.552\n",
      "x40           -0.9731      1.501     -0.648      0.517      -3.917       1.971\n",
      "x41        -3.116e-05   4.71e-05     -0.661      0.509      -0.000    6.13e-05\n",
      "x42           -0.0258      0.013     -1.961      0.050      -0.052     1.5e-06\n",
      "x43            0.0006      0.001      0.818      0.413      -0.001       0.002\n",
      "x44            0.0062      0.011      0.580      0.562      -0.015       0.027\n",
      "x45            0.0059      0.005      1.309      0.191      -0.003       0.015\n",
      "x46            1.0940      1.385      0.790      0.430      -1.622       3.810\n",
      "x47           -0.5436      0.415     -1.311      0.190      -1.357       0.270\n",
      "x48        -4.656e-05   4.03e-05     -1.157      0.248      -0.000    3.24e-05\n",
      "x49            2.3668      1.251      1.892      0.059      -0.086       4.820\n",
      "x50           56.1523    106.647      0.527      0.599    -153.006     265.311\n",
      "x51          -69.7853    106.813     -0.653      0.514    -279.269     139.699\n",
      "x52            0.0112      0.050      0.226      0.821      -0.086       0.108\n",
      "x53           -9.1279     10.573     -0.863      0.388     -29.864      11.608\n",
      "x54           -0.4482      1.243     -0.361      0.718      -2.886       1.989\n",
      "x55            0.1067      0.085      1.262      0.207      -0.059       0.272\n",
      "x56           -9.1861      8.982     -1.023      0.307     -26.801       8.429\n",
      "x57           15.9840      3.931      4.066      0.000       8.274      23.694\n",
      "x58          -15.9805      3.958     -4.037      0.000     -23.744      -8.217\n",
      "x59            0.0672      0.110      0.611      0.541      -0.149       0.283\n",
      "x60          703.0937    585.293      1.201      0.230    -444.795    1850.983\n",
      "x61         -671.9705    590.182     -1.139      0.255   -1829.447     485.506\n",
      "x62            0.0658      0.207      0.317      0.751      -0.341       0.473\n",
      "x63           -0.0107      0.015     -0.714      0.475      -0.040       0.019\n",
      "x64            7.9204      6.117      1.295      0.196      -4.077      19.918\n",
      "x65            0.2914      1.796      0.162      0.871      -3.230       3.813\n",
      "x66           -0.0019      0.001     -2.629      0.009      -0.003      -0.000\n",
      "x67            0.0584      0.109      0.535      0.593      -0.156       0.272\n",
      "x68           14.4722     15.003      0.965      0.335     -14.952      43.896\n",
      "x69        -3.213e-05   1.02e-05     -3.141      0.002   -5.22e-05   -1.21e-05\n",
      "==============================================================================\n",
      "Omnibus:                      771.415   Durbin-Watson:                   1.992\n",
      "Prob(Omnibus):                  0.000   Jarque-Bera (JB):            16614.379\n",
      "Skew:                          -1.326   Prob(JB):                         0.00\n",
      "Kurtosis:                      17.018   Cond. No.                     2.75e+10\n",
      "==============================================================================\n",
      "\n",
      "Notes:\n",
      "[1] Standard Errors assume that the covariance matrix of the errors is correctly specified.\n",
      "[2] The condition number is large, 2.75e+10. This might indicate that there are\n",
      "strong multicollinearity or other numerical problems.\n"
     ]
    }
   ],
   "source": [
    "res = sm.OLS(y_train, X_train[:, best_feats]).fit()\n",
    "print(res.summary())"
   ]
  },
  {
   "cell_type": "code",
   "execution_count": 23,
   "metadata": {},
   "outputs": [
    {
     "data": {
      "text/plain": [
       "'fixed acidity  '"
      ]
     },
     "execution_count": 23,
     "metadata": {},
     "output_type": "execute_result"
    }
   ],
   "source": [
    "X.columns[int(poly_reg.get_feature_names()[list(res.pvalues).index(max(res.pvalues))][1])]"
   ]
  },
  {
   "cell_type": "markdown",
   "metadata": {},
   "source": [
    "5. Основываясь на summary() наименее важная с точки зрения t-статистики переменная это 'fixed acidity  ' из-за наибольшего P-value."
   ]
  },
  {
   "cell_type": "markdown",
   "metadata": {},
   "source": [
    "6. Добавим MinMax стандартизацию."
   ]
  },
  {
   "cell_type": "code",
   "execution_count": 24,
   "metadata": {},
   "outputs": [
    {
     "data": {
      "image/png": "[encoded data removed]",
      "text/plain": [
       "<Figure size 432x288 with 1 Axes>"
      ]
     },
     "metadata": {
      "needs_background": "light"
     },
     "output_type": "display_data"
    },
    {
     "name": "stdout",
     "output_type": "stream",
     "text": [
      "LinearRegression\n",
      "TRAIN MSE: 0.378216\n",
      "VAL MSE: 0.450466\n",
      "TEST MSE: 0.390694\n"
     ]
    },
    {
     "data": {
      "image/png": "[encoded data removed]",
      "text/plain": [
       "<Figure size 432x288 with 1 Axes>"
      ]
     },
     "metadata": {
      "needs_background": "light"
     },
     "output_type": "display_data"
    },
    {
     "name": "stdout",
     "output_type": "stream",
     "text": [
      "LinearRegression\n",
      "TRAIN MSE: 0.396003\n",
      "VAL MSE: 0.447473\n",
      "TEST MSE: 0.418226\n"
     ]
    }
   ],
   "source": [
    "X_train, y_train, X_val, y_val, X_test, y_test = data_partition(X, y)\n",
    "\n",
    "# MinMax стандартизация (вставьте свой код)\n",
    "scaler = MinMaxScaler()\n",
    "scaler.fit(X_train)\n",
    "for X_ in (X_train, X_val, X_test):\n",
    "    X_.values[:] = scaler.transform(X_)\n",
    "# Построим полиномиальную регрессию (degree = 2)\n",
    "\n",
    "# Отобразмим пространство признаков в пространство полиномов степени 2\n",
    "poly_reg = PolynomialFeatures(degree=2)\n",
    "X_train = poly_reg.fit_transform(X_train)\n",
    "X_val = poly_reg.transform(X_val)\n",
    "X_test = poly_reg.transform(X_test)\n",
    "\n",
    "# Определим лучшее число признаков с помощью Backward (измените код для отбора с помощью Forward)\n",
    "best_feats = None\n",
    "features = list(range(X_train.shape[1]))\n",
    "errs = []\n",
    "while len(features) > 0:\n",
    "    lr = LinearRegression()\n",
    "    lr.fit(X_train[:, features], y_train)\n",
    "    err = mean_squared_error(y_val, lr.predict(X_val[:, features]))\n",
    "    errs.append(err)\n",
    "    if min(errs) == err:\n",
    "        best_feats = features.copy()\n",
    "\n",
    "    model = sm.OLS(y_train, X_train[:, features])\n",
    "    res = model.fit()\n",
    "\n",
    "    # Выбираем худший признак и удаляем из пространства признаков\n",
    "    worse_feature = features[np.argmax(res.pvalues)]\n",
    "    features.remove(worse_feature)\n",
    "\n",
    "# Визуализируем ошибки\n",
    "idx = len(errs) - len(best_feats)\n",
    "plt.plot(errs)\n",
    "plt.plot(idx, errs[idx], 'P', ms=10, mfc='red')\n",
    "plt.xlabel(\"Номер итерации\")\n",
    "plt.ylabel(\"MSE\")\n",
    "plt.title(\"Ошибка при отборе признаков методом Backward\")\n",
    "plt.show()\n",
    "\n",
    "# Обучим линейную регрессию на лучших признаках\n",
    "lr = LinearRegression()\n",
    "lr.fit(X_train[:, best_feats], y_train)\n",
    "\n",
    "score_model_mae(lr, \n",
    "                X_train[:, best_feats], y_train, \n",
    "                X_val[:, best_feats], y_val, \n",
    "                X_test[:, best_feats], y_test)\n",
    "\n",
    "\n",
    "\n",
    "# Определим лучшее число признаков с помощью Forward\n",
    "best_feats = None\n",
    "init_features = list(range(X_train.shape[1]))\n",
    "features = list()\n",
    "errs = []\n",
    "\n",
    "init_rss = 1\n",
    "\n",
    "while len(init_features) > 0:\n",
    "    best_rss = init_rss\n",
    "    for i in range(len(init_features)):\n",
    "        model = sm.OLS(y_train, X_train[:, init_features[i]])\n",
    "        res = model.fit()\n",
    "        if res.mse_resid <= best_rss:\n",
    "            best_rss = res.mse_resid\n",
    "            best_feature = i\n",
    "    features.append(init_features[best_feature])\n",
    "    init_features.remove(init_features[best_feature])\n",
    "    \n",
    "    lr = LinearRegression()\n",
    "    lr.fit(X_train[:, features], y_train)\n",
    "    err = mean_squared_error(y_val, lr.predict(X_val[:, features]))\n",
    "    errs.append(err)\n",
    "best_feats = features[:errs.index(min(errs))]\n",
    "\n",
    "# Визуализируем ошибки\n",
    "idx = len(best_feats)\n",
    "plt.plot(errs)\n",
    "plt.plot(idx, errs[idx], 'P', ms=10, mfc='red')\n",
    "plt.xlabel(\"Номер итерации\")\n",
    "plt.ylabel(\"MSE\")\n",
    "plt.title(\"Ошибка при отборе признаков методом Forward\")\n",
    "plt.show()\n",
    "\n",
    "# Обучим линейную регрессию на лучших признаках\n",
    "lr = LinearRegression()\n",
    "res = lr.fit(X_train[:, best_feats], y_train)\n",
    "\n",
    "score_model_mae(lr, \n",
    "                X_train[:, best_feats], y_train, \n",
    "                X_val[:, best_feats], y_val, \n",
    "                X_test[:, best_feats], y_test)"
   ]
  },
  {
   "cell_type": "markdown",
   "metadata": {},
   "source": [
    "MinMax стандартизация уменьшила точность на тестовом наборе на методе Backward и уменьшила на методе Forward. Число степеней свободы уменьшилось на 22, так как в финальный набор переменных не вошло 22 переменных."
   ]
  },
  {
   "cell_type": "code",
   "execution_count": 25,
   "metadata": {},
   "outputs": [
    {
     "name": "stdout",
     "output_type": "stream",
     "text": [
      "                             OLS Regression Results                            \n",
      "===============================================================================\n",
      "Dep. Variable:       target_quality      R-squared:                       0.325\n",
      "Model:                             OLS   Adj. R-squared:                  0.309\n",
      "Method:                  Least Squares   F-statistic:                     19.61\n",
      "Date:                 Tue, 12 Apr 2022   Prob (F-statistic):          1.57e-129\n",
      "Time:                         18:08:39   Log-Likelihood:                -1872.4\n",
      "No. Observations:                 1959   AIC:                             3841.\n",
      "Df Residuals:                     1911   BIC:                             4109.\n",
      "Df Model:                           47                                         \n",
      "Covariance Type:             nonrobust                                         \n",
      "==============================================================================\n",
      "                 coef    std err          t      P>|t|      [0.025      0.975]\n",
      "------------------------------------------------------------------------------\n",
      "x1            -0.9388      0.715     -1.314      0.189      -2.340       0.463\n",
      "x2             2.5410      0.795      3.196      0.001       0.982       4.100\n",
      "x3             2.0462      0.952      2.149      0.032       0.179       3.914\n",
      "x4             1.3846      0.855      1.619      0.106      -0.293       3.062\n",
      "x5            -0.1014      0.601     -0.169      0.866      -1.281       1.078\n",
      "x6             0.4406      1.279      0.344      0.731      -2.068       2.949\n",
      "x7            -0.7481      1.025     -0.730      0.465      -2.758       1.261\n",
      "x8            -0.8703      1.078     -0.807      0.420      -2.985       1.245\n",
      "x9             0.5493      0.700      0.784      0.433      -0.824       1.923\n",
      "x10            0.9069      0.784      1.157      0.247      -0.630       2.444\n",
      "x11            2.0984      1.491      1.408      0.159      -0.825       5.022\n",
      "x12            0.6288      0.596      1.056      0.291      -0.539       1.797\n",
      "x13           -1.5871      1.088     -1.458      0.145      -3.721       0.547\n",
      "x14            1.2528      1.834      0.683      0.495      -2.345       4.850\n",
      "x15           -0.5171      1.138     -0.454      0.650      -2.749       1.715\n",
      "x16            6.9376      2.043      3.396      0.001       2.931      10.945\n",
      "x17          -11.8688      4.109     -2.889      0.004     -19.927      -3.811\n",
      "x18            1.8185      1.450      1.254      0.210      -1.025       4.662\n",
      "x19            2.2426      1.065      2.106      0.035       0.154       4.331\n",
      "x20           -0.1618      0.477     -0.339      0.735      -1.098       0.774\n",
      "x21            0.6466      0.950      0.680      0.496      -1.217       2.511\n",
      "x22            0.5250      1.191      0.441      0.659      -1.811       2.861\n",
      "const         -1.1321      0.632     -1.790      0.074      -2.372       0.108\n",
      "x23            0.8596      1.722      0.499      0.618      -2.518       4.237\n",
      "x24            0.1959      1.394      0.141      0.888      -2.537       2.929\n",
      "x25           -0.7479      2.238     -0.334      0.738      -5.138       3.642\n",
      "x26            5.6263      1.744      3.226      0.001       2.206       9.047\n",
      "x27            0.5785      1.358      0.426      0.670      -2.085       3.242\n",
      "x28           -0.4680      1.201     -0.390      0.697      -2.823       1.887\n",
      "x29            2.5832      1.506      1.715      0.086      -0.370       5.537\n",
      "x30           -0.4870      0.822     -0.592      0.554      -2.099       1.125\n",
      "x31            2.2916      1.260      1.818      0.069      -0.180       4.764\n",
      "x32           -2.8996      1.226     -2.364      0.018      -5.305      -0.494\n",
      "x33           -0.4208      2.424     -0.174      0.862      -5.175       4.333\n",
      "x34           -0.3742      0.879     -0.426      0.670      -2.098       1.349\n",
      "x35           -1.9915      1.054     -1.890      0.059      -4.058       0.075\n",
      "x36            0.8252      2.422      0.341      0.733      -3.924       5.575\n",
      "x37           -7.3503      1.693     -4.342      0.000     -10.670      -4.030\n",
      "x38            1.7523      1.745      1.004      0.315      -1.670       5.174\n",
      "x39           -5.9120      1.399     -4.227      0.000      -8.655      -3.169\n",
      "x40           -1.1993      1.737     -0.690      0.490      -4.606       2.208\n",
      "x41           -5.0500      1.966     -2.568      0.010      -8.906      -1.194\n",
      "x42           -0.7378      1.257     -0.587      0.557      -3.202       1.727\n",
      "x43           -0.3674      0.960     -0.383      0.702      -2.250       1.515\n",
      "x44           -2.3426      1.161     -2.019      0.044      -4.619      -0.067\n",
      "x45           -3.8049      1.191     -3.196      0.001      -6.140      -1.470\n",
      "x46            2.4646      0.883      2.792      0.005       0.733       4.196\n",
      "x47            8.9849      4.716      1.905      0.057      -0.265      18.235\n",
      "==============================================================================\n",
      "Omnibus:                      820.580   Durbin-Watson:                   1.986\n",
      "Prob(Omnibus):                  0.000   Jarque-Bera (JB):            18242.903\n",
      "Skew:                          -1.438   Prob(JB):                         0.00\n",
      "Kurtosis:                      17.670   Cond. No.                         559.\n",
      "==============================================================================\n",
      "\n",
      "Notes:\n",
      "[1] Standard Errors assume that the covariance matrix of the errors is correctly specified.\n"
     ]
    }
   ],
   "source": [
    "print(sm.OLS(y_train, X_train[:, best_feats]).fit().summary())"
   ]
  },
  {
   "cell_type": "markdown",
   "metadata": {
    "id": "kRsF4BAMXxfo"
   },
   "source": [
    "### Вопросы к части 2:\n",
    "\n",
    "1. Аналогично алгоритму выбора признаков Backward, опишите алгоритм Forward\n",
    "2. Какая модель показывает лучшее качество на тестовом наборе? \n",
    "3. Какие переменные не вошли в результирующую регрессионую модель? \n",
    "4. На каком шаге была выбрана лучшая модель?\n",
    "5. С помощью summary() определите какая из вошедших переменных наименее важная с точки зрения t-статистики?\n",
    "\n",
    "5. После разделения данных добавьте MinMaxScaler. Как изменились результаты регрессионной модели с точки числа степеней свободы и значения MSE на тестовом наборе?"
   ]
  },
  {
   "cell_type": "markdown",
   "metadata": {
    "id": "azYnRspns-Fg"
   },
   "source": [
    "## Часть 3: PLS/PCR"
   ]
  },
  {
   "cell_type": "code",
   "execution_count": 26,
   "metadata": {
    "colab": {
     "base_uri": "https://localhost:8080/"
    },
    "id": "cx4-rkJGtDEq",
    "outputId": "df1db5e7-92c7-4064-b5b1-6b331e6be177"
   },
   "outputs": [
    {
     "name": "stdout",
     "output_type": "stream",
     "text": [
      "Pipeline\n",
      "TRAIN MSE: 0.477364\n",
      "VAL MSE: 0.496493\n",
      "TEST MSE: 0.471302\n",
      "PLSRegression\n",
      "TRAIN MSE: 0.441024\n",
      "VAL MSE: 0.464150\n",
      "TEST MSE: 0.445547\n"
     ]
    }
   ],
   "source": [
    "from sklearn.decomposition import PCA\n",
    "from sklearn.pipeline import make_pipeline\n",
    "from sklearn.cross_decomposition import PLSRegression\n",
    "from sklearn.model_selection import cross_val_predict\n",
    "\n",
    "X_train, y_train, X_val, y_val, X_test, y_test = data_partition(X, y)\n",
    "\n",
    "# Метод PCR представляем в виде комбинации PCA с последующей линейной регрессией\n",
    "pcr = make_pipeline(PCA(n_components=5), LinearRegression())\n",
    "pcr.fit(X_train, y_train)\n",
    "\n",
    "pls = PLSRegression(n_components=5)\n",
    "pls.fit(X_train, y_train)\n",
    "\n",
    "# MSE\n",
    "score_model_mae(pcr, X_train, y_train, X_val, y_val, X_test, y_test)\n",
    "score_model_mae(pls, X_train, y_train, X_val, y_val, X_test, y_test)"
   ]
  },
  {
   "cell_type": "code",
   "execution_count": 27,
   "metadata": {
    "colab": {
     "base_uri": "https://localhost:8080/",
     "height": 295
    },
    "id": "4f-hRwUyTYVf",
    "outputId": "00756e97-c2ac-4be1-8f9d-9e043040110a"
   },
   "outputs": [
    {
     "data": {
      "image/png": "[encoded data removed]",
      "text/plain": [
       "<Figure size 432x288 with 1 Axes>"
      ]
     },
     "metadata": {
      "needs_background": "light"
     },
     "output_type": "display_data"
    }
   ],
   "source": [
    "# Необходимо определить лучшее количество компонент\n",
    "\n",
    "def optimise_comp_cv(X, y, n_comp):\n",
    "    # Определяем модель (PLS или PCR)\n",
    "    pls = PLSRegression(n_components=n_comp)\n",
    "\n",
    "    # Расчет ошибки на кросс-валидации\n",
    "    y_cv = cross_val_predict(pls, X, y, cv=10)\n",
    "    mse = mean_squared_error(y, y_cv)\n",
    "    return mse\n",
    "\n",
    "# Визуализация MSE\n",
    "def plot_metrics(vals, ylabel, objective, xticks):\n",
    "    plt.plot(xticks, np.array(vals), '-v')\n",
    "    if objective=='min':\n",
    "        idx = np.argmin(vals)\n",
    "    else:\n",
    "        idx = np.argmax(vals)\n",
    "    plt.plot(xticks[idx], np.array(vals)[idx], 'P', ms=10, mfc='red')\n",
    "\n",
    "    plt.xlabel('Количество компонент PLS')\n",
    "    plt.xticks = xticks\n",
    "    plt.ylabel(ylabel)\n",
    "    plt.title('PLS')\n",
    "    plt.show()\n",
    "\n",
    "\n",
    "# Кросс-валидация проводится на обучающей и валидационной выборках\n",
    "X_tr_val = pd.concat([X_train, X_val])\n",
    "y_tr_val = pd.concat([y_train, y_val])\n",
    "mses = []\n",
    "list_components = list(range(1, X_tr_val.shape[1]+1))\n",
    "for n_comp in list_components:\n",
    "    mse = optimise_comp_cv(X_tr_val, y_tr_val, n_comp)\n",
    "    mses.append(mse)\n",
    "plot_metrics(mses, 'MSE', 'min', list_components)"
   ]
  },
  {
   "cell_type": "markdown",
   "metadata": {
    "id": "UP4cqhXmXkD3"
   },
   "source": [
    "### Вопросы к части 3:\n",
    "\n",
    "1. Сколько компонент было выбрано для моделей PCR и PLS?\n",
    "2. Какое значение MSE модели показывают на тестовом наборе?"
   ]
  },
  {
   "cell_type": "markdown",
   "metadata": {},
   "source": [
    "1. В модели PCR было выбрано 5 компонент, в то время как в методе PLS было выбрано 6 компонент."
   ]
  },
  {
   "cell_type": "markdown",
   "metadata": {},
   "source": [
    "2. Модель PCR на тестовом наборе показывает MSE равное 0.4713. Модель PLS показывает точность 0.445. "
   ]
  },
  {
   "cell_type": "markdown",
   "metadata": {
    "id": "hpWaP0wJSIUe"
   },
   "source": [
    "## Часть 4: LARS + LASSO"
   ]
  },
  {
   "cell_type": "code",
   "execution_count": 28,
   "metadata": {
    "colab": {
     "base_uri": "https://localhost:8080/"
    },
    "id": "lKU6--y-SHl1",
    "outputId": "d47e7094-a70d-4879-8e69-a9269b219208"
   },
   "outputs": [
    {
     "name": "stdout",
     "output_type": "stream",
     "text": [
      "LassoLarsIC\n",
      "TRAIN MSE: 0.440585\n",
      "VAL MSE: 0.456414\n",
      "TEST MSE: 0.438269\n"
     ]
    }
   ],
   "source": [
    "# Документация LARS+LASSO\n",
    "# https://scikit-learn.org/stable/modules/generated/sklearn.linear_model.LassoLarsIC.html#sklearn.linear_model.LassoLarsIC\n",
    "\n",
    "from sklearn.linear_model import LassoLarsIC\n",
    "\n",
    "X_train, y_train, X_val, y_val, X_test, y_test = data_partition(X, y)\n",
    "\n",
    "X_tr_val = pd.concat([X_train, X_val])\n",
    "y_tr_val = pd.concat([y_train, y_val])\n",
    "reg = LassoLarsIC(criterion='aic', normalize=True)\n",
    "reg.fit(X_tr_val, y_tr_val)\n",
    "\n",
    "score_model_mae(reg, X_train, y_train, X_val, y_val, X_test, y_test)"
   ]
  },
  {
   "cell_type": "markdown",
   "metadata": {
    "id": "1XUiDGQOXN0U"
   },
   "source": [
    "### Вопросы к части 4:\n",
    "\n",
    "1. Какое значение MSE модель показывает на тестовом наборе? \n",
    "2. Какая пременная была отобрана на первом шаге? \n",
    "3. Сколько всего переменных было отобрано?\n",
    "4. Если бы вместо критерия отбора модели вашего варианта использовался критерий MSE на валидационном наборе, то было бы отобрано больше или меньше переменных?"
   ]
  },
  {
   "cell_type": "markdown",
   "metadata": {},
   "source": [
    "1. На тестовом наборе была показана точность 0.438269."
   ]
  },
  {
   "cell_type": "code",
   "execution_count": 30,
   "metadata": {},
   "outputs": [
    {
     "data": {
      "image/png": "[encoded data removed]",
      "text/plain": [
       "<Figure size 720x720 with 1 Axes>"
      ]
     },
     "metadata": {
      "needs_background": "light"
     },
     "output_type": "display_data"
    }
   ],
   "source": [
    "from sklearn import linear_model\n",
    "\n",
    "X_array = np.array(X_tr_val)\n",
    "Y_array = np.array(y_tr_val).flatten()\n",
    "\n",
    "alphas, _, coefs = linear_model.lars_path(X_array, Y_array, method=\"lasso\")\n",
    "\n",
    "xx = np.sum(np.abs(coefs.T), axis=1)\n",
    "xx /= xx[-1]\n",
    "\n",
    "plt.figure(figsize=(10, 10))\n",
    "plt.plot(xx, coefs.T, label=X_tr_val.columns)\n",
    "ymin, ymax = plt.ylim()\n",
    "plt.vlines(xx, ymin, ymax, linestyle=\"dashed\")\n",
    "plt.xlabel(\"|coef| / max|coef|\")\n",
    "plt.ylabel(\"Coefficients\")\n",
    "plt.title(\"LASSO Path\")\n",
    "plt.axis(\"tight\")\n",
    "plt.legend()\n",
    "plt.show()"
   ]
  },
  {
   "cell_type": "code",
   "execution_count": 31,
   "metadata": {},
   "outputs": [
    {
     "data": {
      "text/plain": [
       "'  total sulfur dioxide  '"
      ]
     },
     "execution_count": 31,
     "metadata": {},
     "output_type": "execute_result"
    }
   ],
   "source": [
    "X_tr_val.columns[np.argmax(coefs.T[1])]"
   ]
  },
  {
   "cell_type": "markdown",
   "metadata": {},
   "source": [
    "2. В качестве первой переменной была отобрана \"total sulfur dioxide\"."
   ]
  },
  {
   "cell_type": "code",
   "execution_count": 32,
   "metadata": {},
   "outputs": [
    {
     "data": {
      "text/plain": [
       "11"
      ]
     },
     "execution_count": 32,
     "metadata": {},
     "output_type": "execute_result"
    }
   ],
   "source": [
    "len(reg.coef_[reg.coef_ != 0])"
   ]
  },
  {
   "cell_type": "markdown",
   "metadata": {},
   "source": [
    "3. Все переменные (11) имеют ненулевые коэффициенты, а значит все отобраны в модель."
   ]
  },
  {
   "cell_type": "code",
   "execution_count": 33,
   "metadata": {},
   "outputs": [],
   "source": [
    "errors = []\n",
    "for i in range(len(coefs.T)):\n",
    "    current_coefs = coefs.T[i]\n",
    "    current_alpha = alphas[i]\n",
    "    lm = linear_model.Lasso(alpha=current_alpha)\n",
    "    lm.coef_ = current_coefs\n",
    "    lm.intercept_ = 0\n",
    "    errors.append(mean_squared_error(y_val, lm.predict(X_val)))"
   ]
  },
  {
   "cell_type": "code",
   "execution_count": 34,
   "metadata": {},
   "outputs": [
    {
     "data": {
      "text/plain": [
       "8"
      ]
     },
     "execution_count": 34,
     "metadata": {},
     "output_type": "execute_result"
    }
   ],
   "source": [
    "len(coefs.T[errors.index(min(errors))][coefs.T[errors.index(min(errors))] != 0])"
   ]
  },
  {
   "cell_type": "markdown",
   "metadata": {},
   "source": [
    "4. Построив модели на основе параметров моделей на каждом шагу и найдя среди них модель с минимальной ошибкой на валидационном наборе было обнаружено, что эта модель обладает только 8 коэффициентами неравными 0. А значит число переменных в этой модели равно 8."
   ]
  },
  {
   "cell_type": "markdown",
   "metadata": {
    "id": "hpWqSD3xCNJQ"
   },
   "source": [
    "## Общие вопросы:\n",
    "\n",
    "1. Зачем при разделении выборкок проводится стратификация по целевой переменной?\n",
    "2. Какая модель показала лучшее значение MSE на тестовой выборке?"
   ]
  },
  {
   "cell_type": "markdown",
   "metadata": {},
   "source": [
    "1. Для того, чтобы сохранить распределение целевой переменной в каждой выборке. Иначе распределение может различаться, что приведет к неправильному обучению. Например, в обучающей выборке распределение целевой переменной получилось равномерным, а в тестовой оно является нормальным."
   ]
  },
  {
   "cell_type": "markdown",
   "metadata": {},
   "source": [
    "2. Лучший результат получился на полиномиальной регрессии с методом отбора компонент Backward."
   ]
  }
 ],
 "metadata": {
  "colab": {
   "collapsed_sections": [],
   "name": "Задание3ИАД.ipynb",
   "provenance": []
  },
  "kernelspec": {
   "display_name": "Python 3 (ipykernel)",
   "language": "python",
   "name": "python3"
  },
  "language_info": {
   "codemirror_mode": {
    "name": "ipython",
    "version": 3
   },
   "file_extension": ".py",
   "mimetype": "text/x-python",
   "name": "python",
   "nbconvert_exporter": "python",
   "pygments_lexer": "ipython3",
   "version": "3.8.5"
  }
 },
 "nbformat": 4,
 "nbformat_minor": 1
}
